{
 "cells": [
  {
   "cell_type": "markdown",
   "id": "d7086d25",
   "metadata": {},
   "source": [
    "## Create Virtual Environment To Run Your Code\n",
    "\n",
    "It's good practice to create a virtual environment, so that you have a clean place to install packages in and run your code. This way, packages that you've installed outside of the environment won't mess with the installs in your virtual environment and vice versa. To create a virtual environment, you can run the following commands in your terminal:"
   ]
  },
  {
   "cell_type": "markdown",
   "id": "a1d97e84",
   "metadata": {},
   "source": [
    "**Create environment called 'ebm':** <br/>\n",
    "%python3 -m venv ebm\n",
    "\n",
    "**Activate environment:** <br/>\n",
    "%source ebm/bin/activate\n",
    "\n",
    "**Install packages:** <br/>\n",
    "%pip install --upgrade jupyter matplotlib numpy pandas scipy scikit-learn interpret lightgbm hyperopt\n",
    "\n",
    "**Add the environment as a kernel called 'ebm' you can select while in jupyter notebook:**<br/>\n",
    "%pip install ipykernel\n",
    "%python -m ipykernel install --user --name ebm --display-name ebm"
   ]
  },
  {
   "cell_type": "markdown",
   "id": "fd6f4e09",
   "metadata": {},
   "source": [
    "Note: you only need to run all the commands above when you're first creating the environment. Once your environment is created, you can just run $source ebm/bin/activate when you want to activate the environment."
   ]
  },
  {
   "cell_type": "markdown",
   "id": "095bf60f",
   "metadata": {
    "execution": {
     "iopub.execute_input": "2024-02-20T21:06:39.088256Z",
     "iopub.status.busy": "2024-02-20T21:06:39.083042Z",
     "iopub.status.idle": "2024-02-20T21:06:39.103405Z",
     "shell.execute_reply": "2024-02-20T21:06:39.101754Z",
     "shell.execute_reply.started": "2024-02-20T21:06:39.088165Z"
    }
   },
   "source": [
    "## Import Data"
   ]
  },
  {
   "cell_type": "code",
   "execution_count": 1,
   "id": "c0c4b83f",
   "metadata": {
    "execution": {
     "iopub.execute_input": "2024-02-20T20:53:56.076475Z",
     "iopub.status.busy": "2024-02-20T20:53:56.073492Z",
     "iopub.status.idle": "2024-02-20T20:54:00.148112Z",
     "shell.execute_reply": "2024-02-20T20:54:00.145208Z",
     "shell.execute_reply.started": "2024-02-20T20:53:56.076339Z"
    }
   },
   "outputs": [],
   "source": [
    "import warnings\n",
    "warnings.filterwarnings('ignore')\n",
    "\n",
    "import pandas as pd\n",
    "import numpy as np\n",
    "import matplotlib\n",
    "import matplotlib.pyplot as plt\n",
    "from typing import Optional, Self\n",
    "from interpret.glassbox import ExplainableBoostingClassifier as EBC \n",
    "from interpret import show\n",
    "\n",
    "from sklearn.model_selection import train_test_split\n",
    "from sklearn.datasets import make_classification\n",
    "from sklearn.impute import SimpleImputer\n",
    "from sklearn.preprocessing import MinMaxScaler, StandardScaler, OneHotEncoder, OrdinalEncoder\n",
    "from sklearn.metrics import accuracy_score, f1_score, log_loss\n",
    "from sklearn.model_selection import cross_val_score\n",
    "from sklearn.compose import make_column_selector as selector\n",
    "from sklearn.base import BaseEstimator, TransformerMixin\n",
    "from sklearn.pipeline import Pipeline\n",
    "from sklearn.compose import ColumnTransformer\n",
    "from sklearn.inspection import permutation_importance\n",
    "import lightgbm as lgb\n",
    "from lightgbm import LGBMClassifier\n",
    "\n",
    "from hyperopt import tpe, hp, fmin, STATUS_OK,Trials\n",
    "from hyperopt.pyll.base import scope"
   ]
  },
  {
   "cell_type": "code",
   "execution_count": 4,
   "id": "101e9644",
   "metadata": {
    "execution": {
     "iopub.execute_input": "2024-02-20T21:09:28.508175Z",
     "iopub.status.busy": "2024-02-20T21:09:28.507089Z",
     "iopub.status.idle": "2024-02-20T21:09:28.799787Z",
     "shell.execute_reply": "2024-02-20T21:09:28.797973Z",
     "shell.execute_reply.started": "2024-02-20T21:09:28.508138Z"
    }
   },
   "outputs": [
    {
     "data": {
      "text/html": [
       "<div>\n",
       "<style scoped>\n",
       "    .dataframe tbody tr th:only-of-type {\n",
       "        vertical-align: middle;\n",
       "    }\n",
       "\n",
       "    .dataframe tbody tr th {\n",
       "        vertical-align: top;\n",
       "    }\n",
       "\n",
       "    .dataframe thead th {\n",
       "        text-align: right;\n",
       "    }\n",
       "</style>\n",
       "<table border=\"1\" class=\"dataframe\">\n",
       "  <thead>\n",
       "    <tr style=\"text-align: right;\">\n",
       "      <th></th>\n",
       "      <th>species</th>\n",
       "      <th>island</th>\n",
       "      <th>bill_length_mm</th>\n",
       "      <th>bill_depth_mm</th>\n",
       "      <th>flipper_length_mm</th>\n",
       "      <th>body_mass_g</th>\n",
       "      <th>sex</th>\n",
       "    </tr>\n",
       "  </thead>\n",
       "  <tbody>\n",
       "    <tr>\n",
       "      <th>0</th>\n",
       "      <td>Adelie</td>\n",
       "      <td>Torgersen</td>\n",
       "      <td>39.1</td>\n",
       "      <td>18.7</td>\n",
       "      <td>181.0</td>\n",
       "      <td>3750.0</td>\n",
       "      <td>MALE</td>\n",
       "    </tr>\n",
       "    <tr>\n",
       "      <th>1</th>\n",
       "      <td>Adelie</td>\n",
       "      <td>Torgersen</td>\n",
       "      <td>39.5</td>\n",
       "      <td>17.4</td>\n",
       "      <td>186.0</td>\n",
       "      <td>3800.0</td>\n",
       "      <td>FEMALE</td>\n",
       "    </tr>\n",
       "    <tr>\n",
       "      <th>2</th>\n",
       "      <td>Adelie</td>\n",
       "      <td>Torgersen</td>\n",
       "      <td>40.3</td>\n",
       "      <td>18.0</td>\n",
       "      <td>195.0</td>\n",
       "      <td>3250.0</td>\n",
       "      <td>FEMALE</td>\n",
       "    </tr>\n",
       "    <tr>\n",
       "      <th>3</th>\n",
       "      <td>Adelie</td>\n",
       "      <td>Torgersen</td>\n",
       "      <td>NaN</td>\n",
       "      <td>NaN</td>\n",
       "      <td>NaN</td>\n",
       "      <td>NaN</td>\n",
       "      <td>NaN</td>\n",
       "    </tr>\n",
       "    <tr>\n",
       "      <th>4</th>\n",
       "      <td>Adelie</td>\n",
       "      <td>Torgersen</td>\n",
       "      <td>36.7</td>\n",
       "      <td>19.3</td>\n",
       "      <td>193.0</td>\n",
       "      <td>3450.0</td>\n",
       "      <td>FEMALE</td>\n",
       "    </tr>\n",
       "  </tbody>\n",
       "</table>\n",
       "</div>"
      ],
      "text/plain": [
       "  species     island  bill_length_mm  bill_depth_mm  flipper_length_mm  \\\n",
       "0  Adelie  Torgersen            39.1           18.7              181.0   \n",
       "1  Adelie  Torgersen            39.5           17.4              186.0   \n",
       "2  Adelie  Torgersen            40.3           18.0              195.0   \n",
       "3  Adelie  Torgersen             NaN            NaN                NaN   \n",
       "4  Adelie  Torgersen            36.7           19.3              193.0   \n",
       "\n",
       "   body_mass_g     sex  \n",
       "0       3750.0    MALE  \n",
       "1       3800.0  FEMALE  \n",
       "2       3250.0  FEMALE  \n",
       "3          NaN     NaN  \n",
       "4       3450.0  FEMALE  "
      ]
     },
     "execution_count": 4,
     "metadata": {},
     "output_type": "execute_result"
    }
   ],
   "source": [
    "# Read in data\n",
    "url = \"https://raw.githubusercontent.com/mwaskom/seaborn-data/master/penguins.csv\"\n",
    "total_df = pd.read_csv(url)\n",
    "total_df.head()"
   ]
  },
  {
   "cell_type": "markdown",
   "id": "113bef7b",
   "metadata": {},
   "source": [
    "## 2. EDA"
   ]
  },
  {
   "cell_type": "code",
   "execution_count": 5,
   "id": "2a3feff0",
   "metadata": {
    "execution": {
     "iopub.execute_input": "2024-02-20T21:10:34.102818Z",
     "iopub.status.busy": "2024-02-20T21:10:34.102286Z",
     "iopub.status.idle": "2024-02-20T21:10:34.155051Z",
     "shell.execute_reply": "2024-02-20T21:10:34.153550Z",
     "shell.execute_reply.started": "2024-02-20T21:10:34.102773Z"
    }
   },
   "outputs": [
    {
     "name": "stdout",
     "output_type": "stream",
     "text": [
      "<class 'pandas.core.frame.DataFrame'>\n",
      "RangeIndex: 344 entries, 0 to 343\n",
      "Data columns (total 7 columns):\n",
      " #   Column             Non-Null Count  Dtype  \n",
      "---  ------             --------------  -----  \n",
      " 0   species            344 non-null    object \n",
      " 1   island             344 non-null    object \n",
      " 2   bill_length_mm     342 non-null    float64\n",
      " 3   bill_depth_mm      342 non-null    float64\n",
      " 4   flipper_length_mm  342 non-null    float64\n",
      " 5   body_mass_g        342 non-null    float64\n",
      " 6   sex                333 non-null    object \n",
      "dtypes: float64(4), object(3)\n",
      "memory usage: 18.9+ KB\n"
     ]
    }
   ],
   "source": [
    "# Basic info\n",
    "total_df.info()"
   ]
  },
  {
   "cell_type": "code",
   "execution_count": 7,
   "id": "0ce428be",
   "metadata": {
    "execution": {
     "iopub.execute_input": "2024-02-20T21:11:52.913118Z",
     "iopub.status.busy": "2024-02-20T21:11:52.911774Z",
     "iopub.status.idle": "2024-02-20T21:11:52.924790Z",
     "shell.execute_reply": "2024-02-20T21:11:52.923364Z",
     "shell.execute_reply.started": "2024-02-20T21:11:52.913078Z"
    }
   },
   "outputs": [
    {
     "data": {
      "text/plain": [
       "species\n",
       "Adelie       0.441860\n",
       "Gentoo       0.360465\n",
       "Chinstrap    0.197674\n",
       "Name: count, dtype: float64"
      ]
     },
     "execution_count": 7,
     "metadata": {},
     "output_type": "execute_result"
    }
   ],
   "source": [
    "# Check class imbalance - pretty balanced\n",
    "total_df['species'].value_counts() / len(total_df)"
   ]
  },
  {
   "cell_type": "code",
   "execution_count": 10,
   "id": "9fdd5ca7",
   "metadata": {
    "execution": {
     "iopub.execute_input": "2024-02-20T21:14:08.360013Z",
     "iopub.status.busy": "2024-02-20T21:14:08.359031Z",
     "iopub.status.idle": "2024-02-20T21:14:08.373469Z",
     "shell.execute_reply": "2024-02-20T21:14:08.372254Z",
     "shell.execute_reply.started": "2024-02-20T21:14:08.359391Z"
    }
   },
   "outputs": [
    {
     "data": {
      "text/plain": [
       "island\n",
       "Biscoe       0.488372\n",
       "Dream        0.360465\n",
       "Torgersen    0.151163\n",
       "Name: count, dtype: float64"
      ]
     },
     "execution_count": 10,
     "metadata": {},
     "output_type": "execute_result"
    }
   ],
   "source": [
    "# See categories of categorical variables and percentages\n",
    "total_df['island'].value_counts() / len(total_df)"
   ]
  },
  {
   "cell_type": "code",
   "execution_count": 11,
   "id": "838cbaaf",
   "metadata": {
    "execution": {
     "iopub.execute_input": "2024-02-20T21:14:16.356911Z",
     "iopub.status.busy": "2024-02-20T21:14:16.355870Z",
     "iopub.status.idle": "2024-02-20T21:14:16.373408Z",
     "shell.execute_reply": "2024-02-20T21:14:16.371960Z",
     "shell.execute_reply.started": "2024-02-20T21:14:16.356873Z"
    }
   },
   "outputs": [
    {
     "data": {
      "text/plain": [
       "sex\n",
       "MALE      0.488372\n",
       "FEMALE    0.479651\n",
       "Name: count, dtype: float64"
      ]
     },
     "execution_count": 11,
     "metadata": {},
     "output_type": "execute_result"
    }
   ],
   "source": [
    "# See categories of categorical variables\n",
    "total_df['sex'].value_counts() / len(total_df)"
   ]
  },
  {
   "cell_type": "code",
   "execution_count": 8,
   "id": "4d8688c4",
   "metadata": {
    "execution": {
     "iopub.execute_input": "2024-02-20T21:12:16.207233Z",
     "iopub.status.busy": "2024-02-20T21:12:16.206758Z",
     "iopub.status.idle": "2024-02-20T21:12:16.247098Z",
     "shell.execute_reply": "2024-02-20T21:12:16.245846Z",
     "shell.execute_reply.started": "2024-02-20T21:12:16.207198Z"
    }
   },
   "outputs": [
    {
     "data": {
      "text/html": [
       "<div>\n",
       "<style scoped>\n",
       "    .dataframe tbody tr th:only-of-type {\n",
       "        vertical-align: middle;\n",
       "    }\n",
       "\n",
       "    .dataframe tbody tr th {\n",
       "        vertical-align: top;\n",
       "    }\n",
       "\n",
       "    .dataframe thead th {\n",
       "        text-align: right;\n",
       "    }\n",
       "</style>\n",
       "<table border=\"1\" class=\"dataframe\">\n",
       "  <thead>\n",
       "    <tr style=\"text-align: right;\">\n",
       "      <th></th>\n",
       "      <th>bill_length_mm</th>\n",
       "      <th>bill_depth_mm</th>\n",
       "      <th>flipper_length_mm</th>\n",
       "      <th>body_mass_g</th>\n",
       "    </tr>\n",
       "  </thead>\n",
       "  <tbody>\n",
       "    <tr>\n",
       "      <th>count</th>\n",
       "      <td>342.000000</td>\n",
       "      <td>342.000000</td>\n",
       "      <td>342.000000</td>\n",
       "      <td>342.000000</td>\n",
       "    </tr>\n",
       "    <tr>\n",
       "      <th>mean</th>\n",
       "      <td>43.921930</td>\n",
       "      <td>17.151170</td>\n",
       "      <td>200.915205</td>\n",
       "      <td>4201.754386</td>\n",
       "    </tr>\n",
       "    <tr>\n",
       "      <th>std</th>\n",
       "      <td>5.459584</td>\n",
       "      <td>1.974793</td>\n",
       "      <td>14.061714</td>\n",
       "      <td>801.954536</td>\n",
       "    </tr>\n",
       "    <tr>\n",
       "      <th>min</th>\n",
       "      <td>32.100000</td>\n",
       "      <td>13.100000</td>\n",
       "      <td>172.000000</td>\n",
       "      <td>2700.000000</td>\n",
       "    </tr>\n",
       "    <tr>\n",
       "      <th>25%</th>\n",
       "      <td>39.225000</td>\n",
       "      <td>15.600000</td>\n",
       "      <td>190.000000</td>\n",
       "      <td>3550.000000</td>\n",
       "    </tr>\n",
       "    <tr>\n",
       "      <th>50%</th>\n",
       "      <td>44.450000</td>\n",
       "      <td>17.300000</td>\n",
       "      <td>197.000000</td>\n",
       "      <td>4050.000000</td>\n",
       "    </tr>\n",
       "    <tr>\n",
       "      <th>75%</th>\n",
       "      <td>48.500000</td>\n",
       "      <td>18.700000</td>\n",
       "      <td>213.000000</td>\n",
       "      <td>4750.000000</td>\n",
       "    </tr>\n",
       "    <tr>\n",
       "      <th>max</th>\n",
       "      <td>59.600000</td>\n",
       "      <td>21.500000</td>\n",
       "      <td>231.000000</td>\n",
       "      <td>6300.000000</td>\n",
       "    </tr>\n",
       "  </tbody>\n",
       "</table>\n",
       "</div>"
      ],
      "text/plain": [
       "       bill_length_mm  bill_depth_mm  flipper_length_mm  body_mass_g\n",
       "count      342.000000     342.000000         342.000000   342.000000\n",
       "mean        43.921930      17.151170         200.915205  4201.754386\n",
       "std          5.459584       1.974793          14.061714   801.954536\n",
       "min         32.100000      13.100000         172.000000  2700.000000\n",
       "25%         39.225000      15.600000         190.000000  3550.000000\n",
       "50%         44.450000      17.300000         197.000000  4050.000000\n",
       "75%         48.500000      18.700000         213.000000  4750.000000\n",
       "max         59.600000      21.500000         231.000000  6300.000000"
      ]
     },
     "execution_count": 8,
     "metadata": {},
     "output_type": "execute_result"
    }
   ],
   "source": [
    "# Summary stats\n",
    "total_df.describe()"
   ]
  },
  {
   "cell_type": "code",
   "execution_count": 12,
   "id": "77a00784",
   "metadata": {
    "execution": {
     "iopub.execute_input": "2024-02-20T21:16:34.506405Z",
     "iopub.status.busy": "2024-02-20T21:16:34.505931Z",
     "iopub.status.idle": "2024-02-20T21:16:37.125074Z",
     "shell.execute_reply": "2024-02-20T21:16:37.121501Z",
     "shell.execute_reply.started": "2024-02-20T21:16:34.506370Z"
    }
   },
   "outputs": [
    {
     "data": {
      "image/png": "[encoded data removed]",
      "text/plain": [
       "<Figure size 3000x2000 with 4 Axes>"
      ]
     },
     "metadata": {},
     "output_type": "display_data"
    }
   ],
   "source": [
    "# Get distribution of each variable - flipper length bimodal, body mass skewed\n",
    "params = {'axes.titlesize':'20'}\n",
    "matplotlib.rcParams.update(params)\n",
    "total_df.hist(bins=10, figsize=(30, 20), xlabelsize=20, ylabelsize=20)\n",
    "plt.tight_layout()"
   ]
  },
  {
   "cell_type": "code",
   "execution_count": null,
   "id": "7fa934d0",
   "metadata": {},
   "outputs": [],
   "source": []
  },
  {
   "cell_type": "markdown",
   "id": "9e9b7f8d",
   "metadata": {},
   "source": [
    "## 3. Split Data & Pre-Processing"
   ]
  },
  {
   "cell_type": "code",
   "execution_count": 13,
   "id": "60092877",
   "metadata": {
    "execution": {
     "iopub.execute_input": "2024-02-20T21:20:38.485906Z",
     "iopub.status.busy": "2024-02-20T21:20:38.484824Z",
     "iopub.status.idle": "2024-02-20T21:20:38.493985Z",
     "shell.execute_reply": "2024-02-20T21:20:38.492640Z",
     "shell.execute_reply.started": "2024-02-20T21:20:38.485868Z"
    }
   },
   "outputs": [],
   "source": [
    "# Set variables\n",
    "random_state = 42\n",
    "test_size = 0.25"
   ]
  },
  {
   "cell_type": "code",
   "execution_count": 32,
   "id": "a560698b",
   "metadata": {
    "execution": {
     "iopub.execute_input": "2024-02-20T21:36:21.845489Z",
     "iopub.status.busy": "2024-02-20T21:36:21.843232Z",
     "iopub.status.idle": "2024-02-20T21:36:21.872466Z",
     "shell.execute_reply": "2024-02-20T21:36:21.871474Z",
     "shell.execute_reply.started": "2024-02-20T21:36:21.845409Z"
    }
   },
   "outputs": [
    {
     "data": {
      "text/html": [
       "<div>\n",
       "<style scoped>\n",
       "    .dataframe tbody tr th:only-of-type {\n",
       "        vertical-align: middle;\n",
       "    }\n",
       "\n",
       "    .dataframe tbody tr th {\n",
       "        vertical-align: top;\n",
       "    }\n",
       "\n",
       "    .dataframe thead th {\n",
       "        text-align: right;\n",
       "    }\n",
       "</style>\n",
       "<table border=\"1\" class=\"dataframe\">\n",
       "  <thead>\n",
       "    <tr style=\"text-align: right;\">\n",
       "      <th></th>\n",
       "      <th>island</th>\n",
       "      <th>bill_length_mm</th>\n",
       "      <th>bill_depth_mm</th>\n",
       "      <th>flipper_length_mm</th>\n",
       "      <th>body_mass_g</th>\n",
       "      <th>sex</th>\n",
       "    </tr>\n",
       "  </thead>\n",
       "  <tbody>\n",
       "    <tr>\n",
       "      <th>17</th>\n",
       "      <td>Torgersen</td>\n",
       "      <td>42.5</td>\n",
       "      <td>20.7</td>\n",
       "      <td>197.0</td>\n",
       "      <td>4500.0</td>\n",
       "      <td>MALE</td>\n",
       "    </tr>\n",
       "    <tr>\n",
       "      <th>24</th>\n",
       "      <td>Biscoe</td>\n",
       "      <td>38.8</td>\n",
       "      <td>17.2</td>\n",
       "      <td>180.0</td>\n",
       "      <td>3800.0</td>\n",
       "      <td>MALE</td>\n",
       "    </tr>\n",
       "    <tr>\n",
       "      <th>238</th>\n",
       "      <td>Biscoe</td>\n",
       "      <td>46.2</td>\n",
       "      <td>14.5</td>\n",
       "      <td>209.0</td>\n",
       "      <td>4800.0</td>\n",
       "      <td>FEMALE</td>\n",
       "    </tr>\n",
       "    <tr>\n",
       "      <th>145</th>\n",
       "      <td>Dream</td>\n",
       "      <td>39.0</td>\n",
       "      <td>18.7</td>\n",
       "      <td>185.0</td>\n",
       "      <td>3650.0</td>\n",
       "      <td>MALE</td>\n",
       "    </tr>\n",
       "    <tr>\n",
       "      <th>209</th>\n",
       "      <td>Dream</td>\n",
       "      <td>49.3</td>\n",
       "      <td>19.9</td>\n",
       "      <td>203.0</td>\n",
       "      <td>4050.0</td>\n",
       "      <td>MALE</td>\n",
       "    </tr>\n",
       "  </tbody>\n",
       "</table>\n",
       "</div>"
      ],
      "text/plain": [
       "        island  bill_length_mm  bill_depth_mm  flipper_length_mm  body_mass_g  \\\n",
       "17   Torgersen            42.5           20.7              197.0       4500.0   \n",
       "24      Biscoe            38.8           17.2              180.0       3800.0   \n",
       "238     Biscoe            46.2           14.5              209.0       4800.0   \n",
       "145      Dream            39.0           18.7              185.0       3650.0   \n",
       "209      Dream            49.3           19.9              203.0       4050.0   \n",
       "\n",
       "        sex  \n",
       "17     MALE  \n",
       "24     MALE  \n",
       "238  FEMALE  \n",
       "145    MALE  \n",
       "209    MALE  "
      ]
     },
     "execution_count": 32,
     "metadata": {},
     "output_type": "execute_result"
    }
   ],
   "source": [
    "# Split into training and test datasets\n",
    "target = ['species']\n",
    "X = total_df.drop(target, axis=1).reset_index(drop=True)\n",
    "y = total_df[target].reset_index(drop=True)\n",
    "X_train, X_test, y_train, y_test = train_test_split(X, y, test_size=test_size, random_state=random_state)\n",
    "X_train.head()"
   ]
  },
  {
   "cell_type": "code",
   "execution_count": 16,
   "id": "ae395375",
   "metadata": {
    "execution": {
     "iopub.execute_input": "2024-02-20T21:21:13.260962Z",
     "iopub.status.busy": "2024-02-20T21:21:13.260352Z",
     "iopub.status.idle": "2024-02-20T21:21:13.424050Z",
     "shell.execute_reply": "2024-02-20T21:21:13.422672Z",
     "shell.execute_reply.started": "2024-02-20T21:21:13.260916Z"
    }
   },
   "outputs": [
    {
     "data": {
      "text/html": [
       "<div>\n",
       "<style scoped>\n",
       "    .dataframe tbody tr th:only-of-type {\n",
       "        vertical-align: middle;\n",
       "    }\n",
       "\n",
       "    .dataframe tbody tr th {\n",
       "        vertical-align: top;\n",
       "    }\n",
       "\n",
       "    .dataframe thead th {\n",
       "        text-align: right;\n",
       "    }\n",
       "</style>\n",
       "<table border=\"1\" class=\"dataframe\">\n",
       "  <thead>\n",
       "    <tr style=\"text-align: right;\">\n",
       "      <th></th>\n",
       "      <th>species</th>\n",
       "    </tr>\n",
       "  </thead>\n",
       "  <tbody>\n",
       "    <tr>\n",
       "      <th>17</th>\n",
       "      <td>Adelie</td>\n",
       "    </tr>\n",
       "    <tr>\n",
       "      <th>24</th>\n",
       "      <td>Adelie</td>\n",
       "    </tr>\n",
       "    <tr>\n",
       "      <th>238</th>\n",
       "      <td>Gentoo</td>\n",
       "    </tr>\n",
       "    <tr>\n",
       "      <th>145</th>\n",
       "      <td>Adelie</td>\n",
       "    </tr>\n",
       "    <tr>\n",
       "      <th>209</th>\n",
       "      <td>Chinstrap</td>\n",
       "    </tr>\n",
       "  </tbody>\n",
       "</table>\n",
       "</div>"
      ],
      "text/plain": [
       "       species\n",
       "17      Adelie\n",
       "24      Adelie\n",
       "238     Gentoo\n",
       "145     Adelie\n",
       "209  Chinstrap"
      ]
     },
     "execution_count": 16,
     "metadata": {},
     "output_type": "execute_result"
    }
   ],
   "source": [
    "y_train.head()"
   ]
  },
  {
   "cell_type": "code",
   "execution_count": 18,
   "id": "19a124a4",
   "metadata": {
    "execution": {
     "iopub.execute_input": "2024-02-20T21:22:55.510177Z",
     "iopub.status.busy": "2024-02-20T21:22:55.509509Z",
     "iopub.status.idle": "2024-02-20T21:22:55.520454Z",
     "shell.execute_reply": "2024-02-20T21:22:55.519380Z",
     "shell.execute_reply.started": "2024-02-20T21:22:55.510147Z"
    }
   },
   "outputs": [
    {
     "data": {
      "text/plain": [
       "((258, 6), (258, 1), (86, 6), (86, 1))"
      ]
     },
     "execution_count": 18,
     "metadata": {},
     "output_type": "execute_result"
    }
   ],
   "source": [
    "# Sanity check - correct shapes after split\n",
    "X_train.shape, y_train.shape, X_test.shape, y_test.shape"
   ]
  },
  {
   "cell_type": "code",
   "execution_count": 33,
   "id": "c1435547",
   "metadata": {
    "execution": {
     "iopub.execute_input": "2024-02-20T21:36:27.531535Z",
     "iopub.status.busy": "2024-02-20T21:36:27.530821Z",
     "iopub.status.idle": "2024-02-20T21:36:27.637856Z",
     "shell.execute_reply": "2024-02-20T21:36:27.633017Z",
     "shell.execute_reply.started": "2024-02-20T21:36:27.531489Z"
    }
   },
   "outputs": [
    {
     "data": {
      "text/plain": [
       "(['island', 'sex'],\n",
       " ['bill_length_mm', 'bill_depth_mm', 'flipper_length_mm', 'body_mass_g'])"
      ]
     },
     "execution_count": 33,
     "metadata": {},
     "output_type": "execute_result"
    }
   ],
   "source": [
    "# Separate numerical and categorical column lists\n",
    "def get_num_cat_cols(df: pd.DataFrame) -> tuple[list, list]:\n",
    "    \"\"\"\n",
    "    Given a dataframe, return a list of the numerical columns and a list of the categorical columns.\n",
    "    \n",
    "    Parameters\n",
    "    ----------\n",
    "        df: The pandas dataframe.\n",
    "\n",
    "    Returns\n",
    "    -------\n",
    "        cat_cols: list of categorical columns\n",
    "        num_cols: list of numerical columns\n",
    "    \"\"\"\n",
    "    categorical_columns_selector = selector(dtype_include='object')\n",
    "    cat_cols = categorical_columns_selector(df)\n",
    "    num_cols = [col for col in df.columns if col not in cat_cols]\n",
    "    return cat_cols, num_cols\n",
    "\n",
    "cat_cols, num_cols =  get_num_cat_cols(X_train)\n",
    "cat_cols, num_cols"
   ]
  },
  {
   "cell_type": "markdown",
   "id": "6c6cc921",
   "metadata": {},
   "source": [
    "### 3.1 Drop Low Variance Features"
   ]
  },
  {
   "cell_type": "code",
   "execution_count": 24,
   "id": "9a49c95d",
   "metadata": {
    "execution": {
     "iopub.execute_input": "2024-02-20T21:25:46.650728Z",
     "iopub.status.busy": "2024-02-20T21:25:46.650351Z",
     "iopub.status.idle": "2024-02-20T21:25:46.712546Z",
     "shell.execute_reply": "2024-02-20T21:25:46.658213Z",
     "shell.execute_reply.started": "2024-02-20T21:25:46.650701Z"
    }
   },
   "outputs": [],
   "source": [
    "def drop_low_var_cols(df: pd.DataFrame, num_cols: Optional[list[str]]=num_cols, threshold: Optional[float]=0.1) -> pd.DataFrame:\n",
    "    \"\"\"\n",
    "    Drop features with low variance (less than specified threshold). \n",
    "    \n",
    "    Parameters\n",
    "    ----------\n",
    "        df: The pandas dataframe.\n",
    "        num_cols: Optional list of numerical columns of dataframe, default=num_cols. \n",
    "        threshold: Optional threshold, default=0.1. \n",
    "\n",
    "    Returns\n",
    "    -------\n",
    "        df: The dataframe with low variance columns dropped.\n",
    "    \"\"\"\n",
    "    variance = df[num_cols].var()\n",
    "    low_var_cols = []\n",
    "    \n",
    "    for i in range(len(variance)):\n",
    "    \tif variance[i] < threshold:\n",
    "    \t\tlow_var_cols.append(num_cols[i])\n",
    "\n",
    "    print(\"Low variance columns dropped:\", low_var_cols)\n",
    "    df = df.drop(low_var_cols, axis=1)\n",
    "    \n",
    "    return df"
   ]
  },
  {
   "cell_type": "code",
   "execution_count": 34,
   "id": "0090e050",
   "metadata": {
    "execution": {
     "iopub.execute_input": "2024-02-20T21:36:33.194729Z",
     "iopub.status.busy": "2024-02-20T21:36:33.194280Z",
     "iopub.status.idle": "2024-02-20T21:36:33.219577Z",
     "shell.execute_reply": "2024-02-20T21:36:33.218175Z",
     "shell.execute_reply.started": "2024-02-20T21:36:33.194697Z"
    }
   },
   "outputs": [
    {
     "name": "stdout",
     "output_type": "stream",
     "text": [
      "Low variance columns dropped: []\n"
     ]
    },
    {
     "data": {
      "text/html": [
       "<div>\n",
       "<style scoped>\n",
       "    .dataframe tbody tr th:only-of-type {\n",
       "        vertical-align: middle;\n",
       "    }\n",
       "\n",
       "    .dataframe tbody tr th {\n",
       "        vertical-align: top;\n",
       "    }\n",
       "\n",
       "    .dataframe thead th {\n",
       "        text-align: right;\n",
       "    }\n",
       "</style>\n",
       "<table border=\"1\" class=\"dataframe\">\n",
       "  <thead>\n",
       "    <tr style=\"text-align: right;\">\n",
       "      <th></th>\n",
       "      <th>island</th>\n",
       "      <th>bill_length_mm</th>\n",
       "      <th>bill_depth_mm</th>\n",
       "      <th>flipper_length_mm</th>\n",
       "      <th>body_mass_g</th>\n",
       "      <th>sex</th>\n",
       "    </tr>\n",
       "  </thead>\n",
       "  <tbody>\n",
       "    <tr>\n",
       "      <th>17</th>\n",
       "      <td>Torgersen</td>\n",
       "      <td>42.5</td>\n",
       "      <td>20.7</td>\n",
       "      <td>197.0</td>\n",
       "      <td>4500.0</td>\n",
       "      <td>MALE</td>\n",
       "    </tr>\n",
       "    <tr>\n",
       "      <th>24</th>\n",
       "      <td>Biscoe</td>\n",
       "      <td>38.8</td>\n",
       "      <td>17.2</td>\n",
       "      <td>180.0</td>\n",
       "      <td>3800.0</td>\n",
       "      <td>MALE</td>\n",
       "    </tr>\n",
       "    <tr>\n",
       "      <th>238</th>\n",
       "      <td>Biscoe</td>\n",
       "      <td>46.2</td>\n",
       "      <td>14.5</td>\n",
       "      <td>209.0</td>\n",
       "      <td>4800.0</td>\n",
       "      <td>FEMALE</td>\n",
       "    </tr>\n",
       "    <tr>\n",
       "      <th>145</th>\n",
       "      <td>Dream</td>\n",
       "      <td>39.0</td>\n",
       "      <td>18.7</td>\n",
       "      <td>185.0</td>\n",
       "      <td>3650.0</td>\n",
       "      <td>MALE</td>\n",
       "    </tr>\n",
       "    <tr>\n",
       "      <th>209</th>\n",
       "      <td>Dream</td>\n",
       "      <td>49.3</td>\n",
       "      <td>19.9</td>\n",
       "      <td>203.0</td>\n",
       "      <td>4050.0</td>\n",
       "      <td>MALE</td>\n",
       "    </tr>\n",
       "  </tbody>\n",
       "</table>\n",
       "</div>"
      ],
      "text/plain": [
       "        island  bill_length_mm  bill_depth_mm  flipper_length_mm  body_mass_g  \\\n",
       "17   Torgersen            42.5           20.7              197.0       4500.0   \n",
       "24      Biscoe            38.8           17.2              180.0       3800.0   \n",
       "238     Biscoe            46.2           14.5              209.0       4800.0   \n",
       "145      Dream            39.0           18.7              185.0       3650.0   \n",
       "209      Dream            49.3           19.9              203.0       4050.0   \n",
       "\n",
       "        sex  \n",
       "17     MALE  \n",
       "24     MALE  \n",
       "238  FEMALE  \n",
       "145    MALE  \n",
       "209    MALE  "
      ]
     },
     "execution_count": 34,
     "metadata": {},
     "output_type": "execute_result"
    }
   ],
   "source": [
    "threshold=0.1\n",
    "X_train_drop = drop_low_var_cols(X_train, threshold=threshold)\n",
    "X_train_drop.head()"
   ]
  },
  {
   "cell_type": "markdown",
   "id": "dfc9c656",
   "metadata": {},
   "source": [
    "### 3.2 Missing Values"
   ]
  },
  {
   "cell_type": "markdown",
   "id": "36025701",
   "metadata": {},
   "source": [
    "Can drop, impute, or leave missing values if they're informative. We don't have that many missing values, but we don't have many samples, so I will fill with the median (more robust to outliers) for the numerical columns. "
   ]
  },
  {
   "cell_type": "code",
   "execution_count": 35,
   "id": "763ad9a8",
   "metadata": {
    "execution": {
     "iopub.execute_input": "2024-02-20T21:36:41.920470Z",
     "iopub.status.busy": "2024-02-20T21:36:41.920014Z",
     "iopub.status.idle": "2024-02-20T21:36:41.942806Z",
     "shell.execute_reply": "2024-02-20T21:36:41.941307Z",
     "shell.execute_reply.started": "2024-02-20T21:36:41.920437Z"
    }
   },
   "outputs": [
    {
     "data": {
      "text/plain": [
       "bill_length_mm       False\n",
       "bill_depth_mm        False\n",
       "flipper_length_mm    False\n",
       "body_mass_g          False\n",
       "dtype: bool"
      ]
     },
     "execution_count": 35,
     "metadata": {},
     "output_type": "execute_result"
    }
   ],
   "source": [
    "# Deal with missing values - drop, impute, leave if informative\n",
    "imputer = SimpleImputer(strategy=\"median\").set_output(transform='pandas')\n",
    "X_train_imp = imputer.fit_transform(X_train_drop[num_cols])\n",
    "X_train_imp.isnull().any()"
   ]
  },
  {
   "cell_type": "markdown",
   "id": "013fec6a",
   "metadata": {},
   "source": [
    "### 3.3 Drop Correlated Features"
   ]
  },
  {
   "cell_type": "code",
   "execution_count": 36,
   "id": "225059af",
   "metadata": {
    "execution": {
     "iopub.execute_input": "2024-02-20T21:36:45.206395Z",
     "iopub.status.busy": "2024-02-20T21:36:45.205936Z",
     "iopub.status.idle": "2024-02-20T21:36:45.227947Z",
     "shell.execute_reply": "2024-02-20T21:36:45.226304Z",
     "shell.execute_reply.started": "2024-02-20T21:36:45.206363Z"
    }
   },
   "outputs": [
    {
     "data": {
      "text/plain": [
       "flipper_length_mm  body_mass_g          0.874255\n",
       "bill_length_mm     flipper_length_mm    0.656701\n",
       "                   body_mass_g          0.594006\n",
       "bill_depth_mm      flipper_length_mm    0.582296\n",
       "                   body_mass_g          0.485917\n",
       "bill_length_mm     bill_depth_mm        0.219789\n",
       "dtype: float64"
      ]
     },
     "execution_count": 36,
     "metadata": {},
     "output_type": "execute_result"
    }
   ],
   "source": [
    "# Visualize correlated features\n",
    "def get_relevant_pairs(df: pd.DataFrame, num_cols: Optional[list[str]]=num_cols) -> pd.DataFrame:\n",
    "    \"\"\"\n",
    "    DESCRIPTION\n",
    "    \n",
    "    Parameters\n",
    "    ----------\n",
    "        df: The pandas dataframe.\n",
    "\n",
    "    Returns\n",
    "    -------\n",
    "        cat_cols: list of categorical columns\n",
    "        num_cols: list of numerical columns\n",
    "    \"\"\"\n",
    "    corr_matrix = df[num_cols].corr().abs()\n",
    "    relevant_pairs = (corr_matrix.where(np.triu(np.ones(corr_matrix.shape), k=1).astype(bool))\n",
    "                 .stack()\n",
    "                 .sort_values(ascending=False))\n",
    "    \n",
    "    return relevant_pairs\n",
    "\n",
    "relevant_pairs = get_relevant_pairs(X_train_imp)\n",
    "relevant_pairs[:10] "
   ]
  },
  {
   "cell_type": "markdown",
   "id": "7ef76d93",
   "metadata": {},
   "source": [
    "Let's drop flipper length since it also has a less normal distribution."
   ]
  },
  {
   "cell_type": "code",
   "execution_count": 52,
   "id": "00f2d99f",
   "metadata": {
    "execution": {
     "iopub.execute_input": "2024-02-20T21:59:29.307463Z",
     "iopub.status.busy": "2024-02-20T21:59:29.307007Z",
     "iopub.status.idle": "2024-02-20T21:59:29.324164Z",
     "shell.execute_reply": "2024-02-20T21:59:29.322383Z",
     "shell.execute_reply.started": "2024-02-20T21:59:29.307429Z"
    }
   },
   "outputs": [],
   "source": [
    "class RemoveCollinear(BaseEstimator, TransformerMixin):\n",
    "    \"\"\"\n",
    "    A class to remove collinear features.\n",
    "\n",
    "    Attributes\n",
    "    ----------\n",
    "        threshold (float): correlation threshold. \n",
    "    \n",
    "    Methods\n",
    "    -------\n",
    "        fit(X, y=None)\n",
    "            Returns self. \n",
    "\n",
    "        transform(X, y=None)\n",
    "            Returns dataframe with highly collinear columns dropped.\n",
    "    \"\"\"\n",
    "    def __init__(self, threshold=0.8):\n",
    "        self.threshold = threshold\n",
    "    \n",
    "    def fit(self, X, y=None):\n",
    "        return self \n",
    "    \n",
    "    def transform(self, X, y=None):\n",
    "        # Calculate the correlation matrix\n",
    "        corr_matrix = X.corr()\n",
    "        iters = range(len(corr_matrix.columns) - 1)\n",
    "        drop_cols = []\n",
    "        \n",
    "        # Iterate through the correlation matri`x and compare correlations\n",
    "        for i in iters:\n",
    "            for j in range(i+1):\n",
    "                item = corr_matrix.iloc[j:(j+1), (i+1):(i+2)]\n",
    "                col = item.columns\n",
    "                row = item.index\n",
    "                val = abs(item.values)\n",
    "        \n",
    "                if val >= self.threshold:\n",
    "                    print(col.values[0], \"|\", row.values[0], \"|\", round(val[0][0], 2))\n",
    "                    col1 = col.values[0]\n",
    "                    col2 = row.values[0]\n",
    "                    drop_cols.append(col2)\n",
    "        \n",
    "        # Drop one of each pair of correlated columns\n",
    "        drops = set(drop_cols)\n",
    "        print(drops)\n",
    "        X = X.drop(columns=drops)\n",
    "        return X\n",
    "\n",
    "    # # Allow setting output to pandas \n",
    "    # def get_feature_names_out(self, *args, **params):\n",
    "    #     return self.columns_"
   ]
  },
  {
   "cell_type": "code",
   "execution_count": 53,
   "id": "f1d78458",
   "metadata": {
    "execution": {
     "iopub.execute_input": "2024-02-20T21:59:40.607138Z",
     "iopub.status.busy": "2024-02-20T21:59:40.606468Z",
     "iopub.status.idle": "2024-02-20T21:59:40.712477Z",
     "shell.execute_reply": "2024-02-20T21:59:40.709229Z",
     "shell.execute_reply.started": "2024-02-20T21:59:40.607109Z"
    }
   },
   "outputs": [
    {
     "name": "stdout",
     "output_type": "stream",
     "text": [
      "body_mass_g | flipper_length_mm | 0.87\n",
      "{'flipper_length_mm'}\n"
     ]
    },
    {
     "data": {
      "text/html": [
       "<div>\n",
       "<style scoped>\n",
       "    .dataframe tbody tr th:only-of-type {\n",
       "        vertical-align: middle;\n",
       "    }\n",
       "\n",
       "    .dataframe tbody tr th {\n",
       "        vertical-align: top;\n",
       "    }\n",
       "\n",
       "    .dataframe thead th {\n",
       "        text-align: right;\n",
       "    }\n",
       "</style>\n",
       "<table border=\"1\" class=\"dataframe\">\n",
       "  <thead>\n",
       "    <tr style=\"text-align: right;\">\n",
       "      <th></th>\n",
       "      <th>bill_length_mm</th>\n",
       "      <th>bill_depth_mm</th>\n",
       "      <th>body_mass_g</th>\n",
       "    </tr>\n",
       "  </thead>\n",
       "  <tbody>\n",
       "    <tr>\n",
       "      <th>17</th>\n",
       "      <td>42.5</td>\n",
       "      <td>20.7</td>\n",
       "      <td>4500.0</td>\n",
       "    </tr>\n",
       "    <tr>\n",
       "      <th>24</th>\n",
       "      <td>38.8</td>\n",
       "      <td>17.2</td>\n",
       "      <td>3800.0</td>\n",
       "    </tr>\n",
       "    <tr>\n",
       "      <th>238</th>\n",
       "      <td>46.2</td>\n",
       "      <td>14.5</td>\n",
       "      <td>4800.0</td>\n",
       "    </tr>\n",
       "    <tr>\n",
       "      <th>145</th>\n",
       "      <td>39.0</td>\n",
       "      <td>18.7</td>\n",
       "      <td>3650.0</td>\n",
       "    </tr>\n",
       "    <tr>\n",
       "      <th>209</th>\n",
       "      <td>49.3</td>\n",
       "      <td>19.9</td>\n",
       "      <td>4050.0</td>\n",
       "    </tr>\n",
       "  </tbody>\n",
       "</table>\n",
       "</div>"
      ],
      "text/plain": [
       "     bill_length_mm  bill_depth_mm  body_mass_g\n",
       "17             42.5           20.7       4500.0\n",
       "24             38.8           17.2       3800.0\n",
       "238            46.2           14.5       4800.0\n",
       "145            39.0           18.7       3650.0\n",
       "209            49.3           19.9       4050.0"
      ]
     },
     "execution_count": 53,
     "metadata": {},
     "output_type": "execute_result"
    }
   ],
   "source": [
    "collinear = RemoveCollinear(threshold=0.8)\n",
    "test = collinear.fit_transform(X_train[num_cols])\n",
    "test.head()"
   ]
  },
  {
   "cell_type": "markdown",
   "id": "5208249d",
   "metadata": {},
   "source": [
    "### 3.4 Outliers"
   ]
  },
  {
   "cell_type": "code",
   "execution_count": 39,
   "id": "ef9ad55a",
   "metadata": {
    "execution": {
     "iopub.execute_input": "2024-02-20T21:37:25.525881Z",
     "iopub.status.busy": "2024-02-20T21:37:25.525429Z",
     "iopub.status.idle": "2024-02-20T21:37:25.537996Z",
     "shell.execute_reply": "2024-02-20T21:37:25.536601Z",
     "shell.execute_reply.started": "2024-02-20T21:37:25.525849Z"
    }
   },
   "outputs": [
    {
     "data": {
      "text/plain": [
       "['bill_length_mm', 'bill_depth_mm', 'flipper_length_mm', 'body_mass_g']"
      ]
     },
     "execution_count": 39,
     "metadata": {},
     "output_type": "execute_result"
    }
   ],
   "source": [
    "cat_cols, num_cols =  get_num_cat_cols(X_train_imp)\n",
    "num_cols"
   ]
  },
  {
   "cell_type": "code",
   "execution_count": 41,
   "id": "c5f5a1fe",
   "metadata": {
    "execution": {
     "iopub.execute_input": "2024-02-20T21:37:45.258251Z",
     "iopub.status.busy": "2024-02-20T21:37:45.257796Z",
     "iopub.status.idle": "2024-02-20T21:37:45.675170Z",
     "shell.execute_reply": "2024-02-20T21:37:45.674119Z",
     "shell.execute_reply.started": "2024-02-20T21:37:45.258217Z"
    }
   },
   "outputs": [
    {
     "data": {
      "image/png": "[encoded data removed]",
      "text/plain": [
       "<Figure size 640x480 with 1 Axes>"
      ]
     },
     "metadata": {},
     "output_type": "display_data"
    }
   ],
   "source": [
    "plt.boxplot(X_train_imp[num_cols], vert=False, labels=num_cols)\n",
    "plt.title(\"Detecting outliers using Boxplot\")\n",
    "plt.show()"
   ]
  },
  {
   "cell_type": "markdown",
   "id": "42c8d66a",
   "metadata": {},
   "source": [
    "Don't have any major outliers using IQR method."
   ]
  },
  {
   "cell_type": "markdown",
   "id": "e058106e",
   "metadata": {},
   "source": [
    "### 3.5 Feature Engineering"
   ]
  },
  {
   "cell_type": "markdown",
   "id": "28863ba6",
   "metadata": {},
   "source": [
    "Interaction effects? Bill length x sex - bill length has a different effect on species outcome depending on sex"
   ]
  },
  {
   "cell_type": "code",
   "execution_count": 77,
   "id": "582abdad",
   "metadata": {
    "execution": {
     "iopub.execute_input": "2024-02-20T22:18:10.435089Z",
     "iopub.status.busy": "2024-02-20T22:18:10.434611Z",
     "iopub.status.idle": "2024-02-20T22:18:10.447682Z",
     "shell.execute_reply": "2024-02-20T22:18:10.445566Z",
     "shell.execute_reply.started": "2024-02-20T22:18:10.435054Z"
    }
   },
   "outputs": [],
   "source": [
    "# Add engineered features\n",
    "class FeatureEngineer(BaseEstimator, TransformerMixin):\n",
    "    \"\"\"\n",
    "    A class to add engineered features.\n",
    "\n",
    "    Attributes\n",
    "    ----------\n",
    "    \n",
    "    Methods\n",
    "    -------\n",
    "        fit(X, y=None)\n",
    "            Returns self. \n",
    "\n",
    "        transform(X, y=None)\n",
    "            Returns dataframe with engineered features\n",
    "    \"\"\"\n",
    "    def __init__(self): # no *args or **kargs\n",
    "        pass\n",
    "    \n",
    "    def fit(self, X, y=None):\n",
    "        return self \n",
    "    \n",
    "    def transform(self, X, y=None):\n",
    "        X['bill_length_sex'] = X['bill_length_mm'] * X['sex'] # One hot encode sex before so numerical values \n",
    "    \n",
    "        return X"
   ]
  },
  {
   "cell_type": "code",
   "execution_count": null,
   "id": "4151b552",
   "metadata": {},
   "outputs": [],
   "source": [
    "# feature_adder = FeatureEngineer()\n",
    "# feature_adder.transform(X_train_wins).head()"
   ]
  },
  {
   "cell_type": "markdown",
   "id": "96951946",
   "metadata": {},
   "source": [
    "### 3.6 Normalize"
   ]
  },
  {
   "cell_type": "code",
   "execution_count": null,
   "id": "9ab3f266",
   "metadata": {},
   "outputs": [],
   "source": [
    "# Normalize or standardize\n",
    "# Standardization better for normally dist variables + more robust to outliers"
   ]
  },
  {
   "cell_type": "markdown",
   "id": "4c01a8ca",
   "metadata": {},
   "source": [
    "### 3.7 Categorical"
   ]
  },
  {
   "cell_type": "code",
   "execution_count": 42,
   "id": "9b4bd5ce",
   "metadata": {
    "execution": {
     "iopub.execute_input": "2024-02-20T21:39:06.261745Z",
     "iopub.status.busy": "2024-02-20T21:39:06.261031Z",
     "iopub.status.idle": "2024-02-20T21:39:06.268825Z",
     "shell.execute_reply": "2024-02-20T21:39:06.267371Z",
     "shell.execute_reply.started": "2024-02-20T21:39:06.261696Z"
    }
   },
   "outputs": [],
   "source": [
    "# Let's leave the missing values for sex and fill with 'Unknown'- some species could be harder to identify gender by eye\n",
    "# Since we don't have many columns or high cardinality, let's one hot encode the variables"
   ]
  },
  {
   "cell_type": "markdown",
   "id": "5f4d1f2e",
   "metadata": {},
   "source": [
    "### 3.8 Pipeline"
   ]
  },
  {
   "cell_type": "code",
   "execution_count": 49,
   "id": "6f85a75b",
   "metadata": {
    "execution": {
     "iopub.execute_input": "2024-02-20T21:56:06.532143Z",
     "iopub.status.busy": "2024-02-20T21:56:06.530806Z",
     "iopub.status.idle": "2024-02-20T21:56:06.554073Z",
     "shell.execute_reply": "2024-02-20T21:56:06.552926Z",
     "shell.execute_reply.started": "2024-02-20T21:56:06.532054Z"
    }
   },
   "outputs": [],
   "source": [
    "class DataFrameSelector(BaseEstimator, TransformerMixin):\n",
    "    \"\"\"\n",
    "    A class to select numerical vs. categorical columns.\n",
    "\n",
    "    Attributes\n",
    "    ----------\n",
    "        \n",
    "    \n",
    "    Methods\n",
    "    -------\n",
    "        fit(X, y=None)\n",
    "            Returns self. \n",
    "\n",
    "        transform(X, y=None)\n",
    "            Returns dataframe of numerical or categorical columns.\n",
    "    \"\"\"\n",
    "    def __init__(self, attribute_names):\n",
    "        self.attribute_names = attribute_names\n",
    "    \n",
    "    def fit(self, X, y=None):\n",
    "        return self\n",
    "    \n",
    "    def transform(self, X):\n",
    "        return X[self.attribute_names].reset_index(drop=True)"
   ]
  },
  {
   "cell_type": "code",
   "execution_count": 81,
   "id": "7539bcfa",
   "metadata": {
    "execution": {
     "iopub.execute_input": "2024-02-20T22:19:50.178537Z",
     "iopub.status.busy": "2024-02-20T22:19:50.178059Z",
     "iopub.status.idle": "2024-02-20T22:19:50.192168Z",
     "shell.execute_reply": "2024-02-20T22:19:50.189088Z",
     "shell.execute_reply.started": "2024-02-20T22:19:50.178503Z"
    }
   },
   "outputs": [
    {
     "data": {
      "text/plain": [
       "(['island', 'sex'],\n",
       " ['bill_length_mm', 'bill_depth_mm', 'flipper_length_mm', 'body_mass_g'])"
      ]
     },
     "execution_count": 81,
     "metadata": {},
     "output_type": "execute_result"
    }
   ],
   "source": [
    "cat_cols, num_cols =  get_num_cat_cols(X_train)\n",
    "cat_cols, num_cols"
   ]
  },
  {
   "cell_type": "code",
   "execution_count": 82,
   "id": "921fc5c0",
   "metadata": {
    "execution": {
     "iopub.execute_input": "2024-02-20T22:21:47.266454Z",
     "iopub.status.busy": "2024-02-20T22:21:47.265981Z",
     "iopub.status.idle": "2024-02-20T22:21:47.278103Z",
     "shell.execute_reply": "2024-02-20T22:21:47.276170Z",
     "shell.execute_reply.started": "2024-02-20T22:21:47.266419Z"
    }
   },
   "outputs": [],
   "source": [
    "from sklearn import set_config\n",
    "set_config(transform_output='pandas')\n",
    "\n",
    "num_pipeline = Pipeline([\n",
    "        ('num_selector', DataFrameSelector(num_cols)),\n",
    "        ('imputer', SimpleImputer(strategy=\"median\")),\n",
    "        ('drop_collinear', RemoveCollinear(threshold=0.8)),\n",
    "        # ('feat_engineer', FeatureEngineer()),\n",
    "        ('std_scaler', StandardScaler()),\n",
    "    ])\n",
    "\n",
    "cat_pipeline = Pipeline([\n",
    "        ('cat_selector', DataFrameSelector(cat_cols)),\n",
    "        ('imputer', SimpleImputer(strategy=\"constant\", fill_value='Unknown'))\n",
    "#         ,('encoder', OneHotEncoder()) # EBM better without encoding\n",
    "]  \n",
    ")\n",
    "\n",
    "from sklearn.pipeline import FeatureUnion \n",
    "full_pipeline = FeatureUnion(transformer_list=[\n",
    "    (\"num_pipeline\", num_pipeline),\n",
    "    (\"cat_pipeline\", cat_pipeline)\n",
    "    ])"
   ]
  },
  {
   "cell_type": "code",
   "execution_count": 83,
   "id": "cec2e251",
   "metadata": {
    "execution": {
     "iopub.execute_input": "2024-02-20T22:21:49.180542Z",
     "iopub.status.busy": "2024-02-20T22:21:49.180047Z",
     "iopub.status.idle": "2024-02-20T22:21:49.193384Z",
     "shell.execute_reply": "2024-02-20T22:21:49.191736Z",
     "shell.execute_reply.started": "2024-02-20T22:21:49.180507Z"
    }
   },
   "outputs": [
    {
     "data": {
      "text/plain": [
       "(258, 6)"
      ]
     },
     "execution_count": 83,
     "metadata": {},
     "output_type": "execute_result"
    }
   ],
   "source": [
    "X_train.shape"
   ]
  },
  {
   "cell_type": "code",
   "execution_count": 84,
   "id": "cfc7a636",
   "metadata": {
    "execution": {
     "iopub.execute_input": "2024-02-20T22:21:52.469891Z",
     "iopub.status.busy": "2024-02-20T22:21:52.469410Z",
     "iopub.status.idle": "2024-02-20T22:21:52.509558Z",
     "shell.execute_reply": "2024-02-20T22:21:52.507762Z",
     "shell.execute_reply.started": "2024-02-20T22:21:52.469858Z"
    }
   },
   "outputs": [
    {
     "name": "stdout",
     "output_type": "stream",
     "text": [
      "body_mass_g | flipper_length_mm | 0.87\n",
      "{'flipper_length_mm'}\n"
     ]
    },
    {
     "data": {
      "text/plain": [
       "(258, 5)"
      ]
     },
     "execution_count": 84,
     "metadata": {},
     "output_type": "execute_result"
    }
   ],
   "source": [
    "X_train_prep = full_pipeline.fit_transform(X_train).reset_index(drop=True)\n",
    "X_train_prep.shape"
   ]
  },
  {
   "cell_type": "code",
   "execution_count": 57,
   "id": "8b442912",
   "metadata": {
    "execution": {
     "iopub.execute_input": "2024-02-20T22:01:00.272509Z",
     "iopub.status.busy": "2024-02-20T22:01:00.272111Z",
     "iopub.status.idle": "2024-02-20T22:01:00.288348Z",
     "shell.execute_reply": "2024-02-20T22:01:00.286938Z",
     "shell.execute_reply.started": "2024-02-20T22:01:00.272479Z"
    }
   },
   "outputs": [
    {
     "data": {
      "text/html": [
       "<div>\n",
       "<style scoped>\n",
       "    .dataframe tbody tr th:only-of-type {\n",
       "        vertical-align: middle;\n",
       "    }\n",
       "\n",
       "    .dataframe tbody tr th {\n",
       "        vertical-align: top;\n",
       "    }\n",
       "\n",
       "    .dataframe thead th {\n",
       "        text-align: right;\n",
       "    }\n",
       "</style>\n",
       "<table border=\"1\" class=\"dataframe\">\n",
       "  <thead>\n",
       "    <tr style=\"text-align: right;\">\n",
       "      <th></th>\n",
       "      <th>bill_length_mm</th>\n",
       "      <th>bill_depth_mm</th>\n",
       "      <th>body_mass_g</th>\n",
       "      <th>island</th>\n",
       "      <th>sex</th>\n",
       "    </tr>\n",
       "  </thead>\n",
       "  <tbody>\n",
       "    <tr>\n",
       "      <th>0</th>\n",
       "      <td>-0.258692</td>\n",
       "      <td>1.802177</td>\n",
       "      <td>0.373857</td>\n",
       "      <td>Torgersen</td>\n",
       "      <td>MALE</td>\n",
       "    </tr>\n",
       "    <tr>\n",
       "      <th>1</th>\n",
       "      <td>-0.936004</td>\n",
       "      <td>0.051192</td>\n",
       "      <td>-0.507586</td>\n",
       "      <td>Biscoe</td>\n",
       "      <td>MALE</td>\n",
       "    </tr>\n",
       "    <tr>\n",
       "      <th>2</th>\n",
       "      <td>0.418619</td>\n",
       "      <td>-1.299569</td>\n",
       "      <td>0.751618</td>\n",
       "      <td>Biscoe</td>\n",
       "      <td>FEMALE</td>\n",
       "    </tr>\n",
       "    <tr>\n",
       "      <th>3</th>\n",
       "      <td>-0.899392</td>\n",
       "      <td>0.801614</td>\n",
       "      <td>-0.696467</td>\n",
       "      <td>Dream</td>\n",
       "      <td>MALE</td>\n",
       "    </tr>\n",
       "    <tr>\n",
       "      <th>4</th>\n",
       "      <td>0.986096</td>\n",
       "      <td>1.401952</td>\n",
       "      <td>-0.192785</td>\n",
       "      <td>Dream</td>\n",
       "      <td>MALE</td>\n",
       "    </tr>\n",
       "  </tbody>\n",
       "</table>\n",
       "</div>"
      ],
      "text/plain": [
       "   bill_length_mm  bill_depth_mm  body_mass_g     island     sex\n",
       "0       -0.258692       1.802177     0.373857  Torgersen    MALE\n",
       "1       -0.936004       0.051192    -0.507586     Biscoe    MALE\n",
       "2        0.418619      -1.299569     0.751618     Biscoe  FEMALE\n",
       "3       -0.899392       0.801614    -0.696467      Dream    MALE\n",
       "4        0.986096       1.401952    -0.192785      Dream    MALE"
      ]
     },
     "execution_count": 57,
     "metadata": {},
     "output_type": "execute_result"
    }
   ],
   "source": [
    "X_train_prep.head()"
   ]
  },
  {
   "cell_type": "code",
   "execution_count": 58,
   "id": "07377133",
   "metadata": {
    "execution": {
     "iopub.execute_input": "2024-02-20T22:01:12.742956Z",
     "iopub.status.busy": "2024-02-20T22:01:12.742497Z",
     "iopub.status.idle": "2024-02-20T22:01:12.775442Z",
     "shell.execute_reply": "2024-02-20T22:01:12.773615Z",
     "shell.execute_reply.started": "2024-02-20T22:01:12.742924Z"
    }
   },
   "outputs": [
    {
     "name": "stdout",
     "output_type": "stream",
     "text": [
      "<class 'pandas.core.frame.DataFrame'>\n",
      "RangeIndex: 258 entries, 0 to 257\n",
      "Data columns (total 5 columns):\n",
      " #   Column          Non-Null Count  Dtype  \n",
      "---  ------          --------------  -----  \n",
      " 0   bill_length_mm  258 non-null    float64\n",
      " 1   bill_depth_mm   258 non-null    float64\n",
      " 2   body_mass_g     258 non-null    float64\n",
      " 3   island          258 non-null    object \n",
      " 4   sex             258 non-null    object \n",
      "dtypes: float64(3), object(2)\n",
      "memory usage: 10.2+ KB\n"
     ]
    }
   ],
   "source": [
    "X_train_prep.info()"
   ]
  },
  {
   "cell_type": "code",
   "execution_count": 59,
   "id": "61ca1e38",
   "metadata": {
    "execution": {
     "iopub.execute_input": "2024-02-20T22:01:34.946650Z",
     "iopub.status.busy": "2024-02-20T22:01:34.945982Z",
     "iopub.status.idle": "2024-02-20T22:01:34.963746Z",
     "shell.execute_reply": "2024-02-20T22:01:34.962472Z",
     "shell.execute_reply.started": "2024-02-20T22:01:34.946618Z"
    }
   },
   "outputs": [
    {
     "data": {
      "text/plain": [
       "sex\n",
       "MALE       126\n",
       "FEMALE     124\n",
       "Unknown      8\n",
       "Name: count, dtype: int64"
      ]
     },
     "execution_count": 59,
     "metadata": {},
     "output_type": "execute_result"
    }
   ],
   "source": [
    "X_train_prep['sex'].value_counts()"
   ]
  },
  {
   "cell_type": "markdown",
   "id": "ee72fd9c",
   "metadata": {},
   "source": [
    "## 4. Initial Model - Explainable Boosting Classifier"
   ]
  },
  {
   "cell_type": "code",
   "execution_count": 61,
   "id": "1a6cce1c",
   "metadata": {
    "execution": {
     "iopub.execute_input": "2024-02-20T22:03:11.326210Z",
     "iopub.status.busy": "2024-02-20T22:03:11.325793Z",
     "iopub.status.idle": "2024-02-20T22:03:12.646768Z",
     "shell.execute_reply": "2024-02-20T22:03:12.643958Z",
     "shell.execute_reply.started": "2024-02-20T22:03:11.326180Z"
    }
   },
   "outputs": [
    {
     "data": {
      "text/html": [
       "<style>#sk-container-id-2 {\n",
       "  /* Definition of color scheme common for light and dark mode */\n",
       "  --sklearn-color-text: black;\n",
       "  --sklearn-color-line: gray;\n",
       "  /* Definition of color scheme for unfitted estimators */\n",
       "  --sklearn-color-unfitted-level-0: #fff5e6;\n",
       "  --sklearn-color-unfitted-level-1: #f6e4d2;\n",
       "  --sklearn-color-unfitted-level-2: #ffe0b3;\n",
       "  --sklearn-color-unfitted-level-3: chocolate;\n",
       "  /* Definition of color scheme for fitted estimators */\n",
       "  --sklearn-color-fitted-level-0: #f0f8ff;\n",
       "  --sklearn-color-fitted-level-1: #d4ebff;\n",
       "  --sklearn-color-fitted-level-2: #b3dbfd;\n",
       "  --sklearn-color-fitted-level-3: cornflowerblue;\n",
       "\n",
       "  /* Specific color for light theme */\n",
       "  --sklearn-color-text-on-default-background: var(--sg-text-color, var(--theme-code-foreground, var(--jp-content-font-color1, black)));\n",
       "  --sklearn-color-background: var(--sg-background-color, var(--theme-background, var(--jp-layout-color0, white)));\n",
       "  --sklearn-color-border-box: var(--sg-text-color, var(--theme-code-foreground, var(--jp-content-font-color1, black)));\n",
       "  --sklearn-color-icon: #696969;\n",
       "\n",
       "  @media (prefers-color-scheme: dark) {\n",
       "    /* Redefinition of color scheme for dark theme */\n",
       "    --sklearn-color-text-on-default-background: var(--sg-text-color, var(--theme-code-foreground, var(--jp-content-font-color1, white)));\n",
       "    --sklearn-color-background: var(--sg-background-color, var(--theme-background, var(--jp-layout-color0, #111)));\n",
       "    --sklearn-color-border-box: var(--sg-text-color, var(--theme-code-foreground, var(--jp-content-font-color1, white)));\n",
       "    --sklearn-color-icon: #878787;\n",
       "  }\n",
       "}\n",
       "\n",
       "#sk-container-id-2 {\n",
       "  color: var(--sklearn-color-text);\n",
       "}\n",
       "\n",
       "#sk-container-id-2 pre {\n",
       "  padding: 0;\n",
       "}\n",
       "\n",
       "#sk-container-id-2 input.sk-hidden--visually {\n",
       "  border: 0;\n",
       "  clip: rect(1px 1px 1px 1px);\n",
       "  clip: rect(1px, 1px, 1px, 1px);\n",
       "  height: 1px;\n",
       "  margin: -1px;\n",
       "  overflow: hidden;\n",
       "  padding: 0;\n",
       "  position: absolute;\n",
       "  width: 1px;\n",
       "}\n",
       "\n",
       "#sk-container-id-2 div.sk-dashed-wrapped {\n",
       "  border: 1px dashed var(--sklearn-color-line);\n",
       "  margin: 0 0.4em 0.5em 0.4em;\n",
       "  box-sizing: border-box;\n",
       "  padding-bottom: 0.4em;\n",
       "  background-color: var(--sklearn-color-background);\n",
       "}\n",
       "\n",
       "#sk-container-id-2 div.sk-container {\n",
       "  /* jupyter's `normalize.less` sets `[hidden] { display: none; }`\n",
       "     but bootstrap.min.css set `[hidden] { display: none !important; }`\n",
       "     so we also need the `!important` here to be able to override the\n",
       "     default hidden behavior on the sphinx rendered scikit-learn.org.\n",
       "     See: https://github.com/scikit-learn/scikit-learn/issues/21755 */\n",
       "  display: inline-block !important;\n",
       "  position: relative;\n",
       "}\n",
       "\n",
       "#sk-container-id-2 div.sk-text-repr-fallback {\n",
       "  display: none;\n",
       "}\n",
       "\n",
       "div.sk-parallel-item,\n",
       "div.sk-serial,\n",
       "div.sk-item {\n",
       "  /* draw centered vertical line to link estimators */\n",
       "  background-image: linear-gradient(var(--sklearn-color-text-on-default-background), var(--sklearn-color-text-on-default-background));\n",
       "  background-size: 2px 100%;\n",
       "  background-repeat: no-repeat;\n",
       "  background-position: center center;\n",
       "}\n",
       "\n",
       "/* Parallel-specific style estimator block */\n",
       "\n",
       "#sk-container-id-2 div.sk-parallel-item::after {\n",
       "  content: \"\";\n",
       "  width: 100%;\n",
       "  border-bottom: 2px solid var(--sklearn-color-text-on-default-background);\n",
       "  flex-grow: 1;\n",
       "}\n",
       "\n",
       "#sk-container-id-2 div.sk-parallel {\n",
       "  display: flex;\n",
       "  align-items: stretch;\n",
       "  justify-content: center;\n",
       "  background-color: var(--sklearn-color-background);\n",
       "  position: relative;\n",
       "}\n",
       "\n",
       "#sk-container-id-2 div.sk-parallel-item {\n",
       "  display: flex;\n",
       "  flex-direction: column;\n",
       "}\n",
       "\n",
       "#sk-container-id-2 div.sk-parallel-item:first-child::after {\n",
       "  align-self: flex-end;\n",
       "  width: 50%;\n",
       "}\n",
       "\n",
       "#sk-container-id-2 div.sk-parallel-item:last-child::after {\n",
       "  align-self: flex-start;\n",
       "  width: 50%;\n",
       "}\n",
       "\n",
       "#sk-container-id-2 div.sk-parallel-item:only-child::after {\n",
       "  width: 0;\n",
       "}\n",
       "\n",
       "/* Serial-specific style estimator block */\n",
       "\n",
       "#sk-container-id-2 div.sk-serial {\n",
       "  display: flex;\n",
       "  flex-direction: column;\n",
       "  align-items: center;\n",
       "  background-color: var(--sklearn-color-background);\n",
       "  padding-right: 1em;\n",
       "  padding-left: 1em;\n",
       "}\n",
       "\n",
       "\n",
       "/* Toggleable style: style used for estimator/Pipeline/ColumnTransformer box that is\n",
       "clickable and can be expanded/collapsed.\n",
       "- Pipeline and ColumnTransformer use this feature and define the default style\n",
       "- Estimators will overwrite some part of the style using the `sk-estimator` class\n",
       "*/\n",
       "\n",
       "/* Pipeline and ColumnTransformer style (default) */\n",
       "\n",
       "#sk-container-id-2 div.sk-toggleable {\n",
       "  /* Default theme specific background. It is overwritten whether we have a\n",
       "  specific estimator or a Pipeline/ColumnTransformer */\n",
       "  background-color: var(--sklearn-color-background);\n",
       "}\n",
       "\n",
       "/* Toggleable label */\n",
       "#sk-container-id-2 label.sk-toggleable__label {\n",
       "  cursor: pointer;\n",
       "  display: block;\n",
       "  width: 100%;\n",
       "  margin-bottom: 0;\n",
       "  padding: 0.5em;\n",
       "  box-sizing: border-box;\n",
       "  text-align: center;\n",
       "}\n",
       "\n",
       "#sk-container-id-2 label.sk-toggleable__label-arrow:before {\n",
       "  /* Arrow on the left of the label */\n",
       "  content: \"▸\";\n",
       "  float: left;\n",
       "  margin-right: 0.25em;\n",
       "  color: var(--sklearn-color-icon);\n",
       "}\n",
       "\n",
       "#sk-container-id-2 label.sk-toggleable__label-arrow:hover:before {\n",
       "  color: var(--sklearn-color-text);\n",
       "}\n",
       "\n",
       "/* Toggleable content - dropdown */\n",
       "\n",
       "#sk-container-id-2 div.sk-toggleable__content {\n",
       "  max-height: 0;\n",
       "  max-width: 0;\n",
       "  overflow: hidden;\n",
       "  text-align: left;\n",
       "  /* unfitted */\n",
       "  background-color: var(--sklearn-color-unfitted-level-0);\n",
       "}\n",
       "\n",
       "#sk-container-id-2 div.sk-toggleable__content.fitted {\n",
       "  /* fitted */\n",
       "  background-color: var(--sklearn-color-fitted-level-0);\n",
       "}\n",
       "\n",
       "#sk-container-id-2 div.sk-toggleable__content pre {\n",
       "  margin: 0.2em;\n",
       "  border-radius: 0.25em;\n",
       "  color: var(--sklearn-color-text);\n",
       "  /* unfitted */\n",
       "  background-color: var(--sklearn-color-unfitted-level-0);\n",
       "}\n",
       "\n",
       "#sk-container-id-2 div.sk-toggleable__content.fitted pre {\n",
       "  /* unfitted */\n",
       "  background-color: var(--sklearn-color-fitted-level-0);\n",
       "}\n",
       "\n",
       "#sk-container-id-2 input.sk-toggleable__control:checked~div.sk-toggleable__content {\n",
       "  /* Expand drop-down */\n",
       "  max-height: 200px;\n",
       "  max-width: 100%;\n",
       "  overflow: auto;\n",
       "}\n",
       "\n",
       "#sk-container-id-2 input.sk-toggleable__control:checked~label.sk-toggleable__label-arrow:before {\n",
       "  content: \"▾\";\n",
       "}\n",
       "\n",
       "/* Pipeline/ColumnTransformer-specific style */\n",
       "\n",
       "#sk-container-id-2 div.sk-label input.sk-toggleable__control:checked~label.sk-toggleable__label {\n",
       "  color: var(--sklearn-color-text);\n",
       "  background-color: var(--sklearn-color-unfitted-level-2);\n",
       "}\n",
       "\n",
       "#sk-container-id-2 div.sk-label.fitted input.sk-toggleable__control:checked~label.sk-toggleable__label {\n",
       "  background-color: var(--sklearn-color-fitted-level-2);\n",
       "}\n",
       "\n",
       "/* Estimator-specific style */\n",
       "\n",
       "/* Colorize estimator box */\n",
       "#sk-container-id-2 div.sk-estimator input.sk-toggleable__control:checked~label.sk-toggleable__label {\n",
       "  /* unfitted */\n",
       "  background-color: var(--sklearn-color-unfitted-level-2);\n",
       "}\n",
       "\n",
       "#sk-container-id-2 div.sk-estimator.fitted input.sk-toggleable__control:checked~label.sk-toggleable__label {\n",
       "  /* fitted */\n",
       "  background-color: var(--sklearn-color-fitted-level-2);\n",
       "}\n",
       "\n",
       "#sk-container-id-2 div.sk-label label.sk-toggleable__label,\n",
       "#sk-container-id-2 div.sk-label label {\n",
       "  /* The background is the default theme color */\n",
       "  color: var(--sklearn-color-text-on-default-background);\n",
       "}\n",
       "\n",
       "/* On hover, darken the color of the background */\n",
       "#sk-container-id-2 div.sk-label:hover label.sk-toggleable__label {\n",
       "  color: var(--sklearn-color-text);\n",
       "  background-color: var(--sklearn-color-unfitted-level-2);\n",
       "}\n",
       "\n",
       "/* Label box, darken color on hover, fitted */\n",
       "#sk-container-id-2 div.sk-label.fitted:hover label.sk-toggleable__label.fitted {\n",
       "  color: var(--sklearn-color-text);\n",
       "  background-color: var(--sklearn-color-fitted-level-2);\n",
       "}\n",
       "\n",
       "/* Estimator label */\n",
       "\n",
       "#sk-container-id-2 div.sk-label label {\n",
       "  font-family: monospace;\n",
       "  font-weight: bold;\n",
       "  display: inline-block;\n",
       "  line-height: 1.2em;\n",
       "}\n",
       "\n",
       "#sk-container-id-2 div.sk-label-container {\n",
       "  text-align: center;\n",
       "}\n",
       "\n",
       "/* Estimator-specific */\n",
       "#sk-container-id-2 div.sk-estimator {\n",
       "  font-family: monospace;\n",
       "  border: 1px dotted var(--sklearn-color-border-box);\n",
       "  border-radius: 0.25em;\n",
       "  box-sizing: border-box;\n",
       "  margin-bottom: 0.5em;\n",
       "  /* unfitted */\n",
       "  background-color: var(--sklearn-color-unfitted-level-0);\n",
       "}\n",
       "\n",
       "#sk-container-id-2 div.sk-estimator.fitted {\n",
       "  /* fitted */\n",
       "  background-color: var(--sklearn-color-fitted-level-0);\n",
       "}\n",
       "\n",
       "/* on hover */\n",
       "#sk-container-id-2 div.sk-estimator:hover {\n",
       "  /* unfitted */\n",
       "  background-color: var(--sklearn-color-unfitted-level-2);\n",
       "}\n",
       "\n",
       "#sk-container-id-2 div.sk-estimator.fitted:hover {\n",
       "  /* fitted */\n",
       "  background-color: var(--sklearn-color-fitted-level-2);\n",
       "}\n",
       "\n",
       "/* Specification for estimator info (e.g. \"i\" and \"?\") */\n",
       "\n",
       "/* Common style for \"i\" and \"?\" */\n",
       "\n",
       ".sk-estimator-doc-link,\n",
       "a:link.sk-estimator-doc-link,\n",
       "a:visited.sk-estimator-doc-link {\n",
       "  float: right;\n",
       "  font-size: smaller;\n",
       "  line-height: 1em;\n",
       "  font-family: monospace;\n",
       "  background-color: var(--sklearn-color-background);\n",
       "  border-radius: 1em;\n",
       "  height: 1em;\n",
       "  width: 1em;\n",
       "  text-decoration: none !important;\n",
       "  margin-left: 1ex;\n",
       "  /* unfitted */\n",
       "  border: var(--sklearn-color-unfitted-level-1) 1pt solid;\n",
       "  color: var(--sklearn-color-unfitted-level-1);\n",
       "}\n",
       "\n",
       ".sk-estimator-doc-link.fitted,\n",
       "a:link.sk-estimator-doc-link.fitted,\n",
       "a:visited.sk-estimator-doc-link.fitted {\n",
       "  /* fitted */\n",
       "  border: var(--sklearn-color-fitted-level-1) 1pt solid;\n",
       "  color: var(--sklearn-color-fitted-level-1);\n",
       "}\n",
       "\n",
       "/* On hover */\n",
       "div.sk-estimator:hover .sk-estimator-doc-link:hover,\n",
       ".sk-estimator-doc-link:hover,\n",
       "div.sk-label-container:hover .sk-estimator-doc-link:hover,\n",
       ".sk-estimator-doc-link:hover {\n",
       "  /* unfitted */\n",
       "  background-color: var(--sklearn-color-unfitted-level-3);\n",
       "  color: var(--sklearn-color-background);\n",
       "  text-decoration: none;\n",
       "}\n",
       "\n",
       "div.sk-estimator.fitted:hover .sk-estimator-doc-link.fitted:hover,\n",
       ".sk-estimator-doc-link.fitted:hover,\n",
       "div.sk-label-container:hover .sk-estimator-doc-link.fitted:hover,\n",
       ".sk-estimator-doc-link.fitted:hover {\n",
       "  /* fitted */\n",
       "  background-color: var(--sklearn-color-fitted-level-3);\n",
       "  color: var(--sklearn-color-background);\n",
       "  text-decoration: none;\n",
       "}\n",
       "\n",
       "/* Span, style for the box shown on hovering the info icon */\n",
       ".sk-estimator-doc-link span {\n",
       "  display: none;\n",
       "  z-index: 9999;\n",
       "  position: relative;\n",
       "  font-weight: normal;\n",
       "  right: .2ex;\n",
       "  padding: .5ex;\n",
       "  margin: .5ex;\n",
       "  width: min-content;\n",
       "  min-width: 20ex;\n",
       "  max-width: 50ex;\n",
       "  color: var(--sklearn-color-text);\n",
       "  box-shadow: 2pt 2pt 4pt #999;\n",
       "  /* unfitted */\n",
       "  background: var(--sklearn-color-unfitted-level-0);\n",
       "  border: .5pt solid var(--sklearn-color-unfitted-level-3);\n",
       "}\n",
       "\n",
       ".sk-estimator-doc-link.fitted span {\n",
       "  /* fitted */\n",
       "  background: var(--sklearn-color-fitted-level-0);\n",
       "  border: var(--sklearn-color-fitted-level-3);\n",
       "}\n",
       "\n",
       ".sk-estimator-doc-link:hover span {\n",
       "  display: block;\n",
       "}\n",
       "\n",
       "/* \"?\"-specific style due to the `<a>` HTML tag */\n",
       "\n",
       "#sk-container-id-2 a.estimator_doc_link {\n",
       "  float: right;\n",
       "  font-size: 1rem;\n",
       "  line-height: 1em;\n",
       "  font-family: monospace;\n",
       "  background-color: var(--sklearn-color-background);\n",
       "  border-radius: 1rem;\n",
       "  height: 1rem;\n",
       "  width: 1rem;\n",
       "  text-decoration: none;\n",
       "  /* unfitted */\n",
       "  color: var(--sklearn-color-unfitted-level-1);\n",
       "  border: var(--sklearn-color-unfitted-level-1) 1pt solid;\n",
       "}\n",
       "\n",
       "#sk-container-id-2 a.estimator_doc_link.fitted {\n",
       "  /* fitted */\n",
       "  border: var(--sklearn-color-fitted-level-1) 1pt solid;\n",
       "  color: var(--sklearn-color-fitted-level-1);\n",
       "}\n",
       "\n",
       "/* On hover */\n",
       "#sk-container-id-2 a.estimator_doc_link:hover {\n",
       "  /* unfitted */\n",
       "  background-color: var(--sklearn-color-unfitted-level-3);\n",
       "  color: var(--sklearn-color-background);\n",
       "  text-decoration: none;\n",
       "}\n",
       "\n",
       "#sk-container-id-2 a.estimator_doc_link.fitted:hover {\n",
       "  /* fitted */\n",
       "  background-color: var(--sklearn-color-fitted-level-3);\n",
       "}\n",
       "</style><div id=\"sk-container-id-2\" class=\"sk-top-container\"><div class=\"sk-text-repr-fallback\"><pre>ExplainableBoostingClassifier()</pre><b>In a Jupyter environment, please rerun this cell to show the HTML representation or trust the notebook. <br />On GitHub, the HTML representation is unable to render, please try loading this page with nbviewer.org.</b></div><div class=\"sk-container\" hidden><div class=\"sk-item\"><div class=\"sk-estimator fitted sk-toggleable\"><input class=\"sk-toggleable__control sk-hidden--visually\" id=\"sk-estimator-id-2\" type=\"checkbox\" checked><label for=\"sk-estimator-id-2\" class=\"sk-toggleable__label fitted sk-toggleable__label-arrow fitted\">&nbsp;ExplainableBoostingClassifier<span class=\"sk-estimator-doc-link fitted\">i<span>Fitted</span></span></label><div class=\"sk-toggleable__content fitted\"><pre>ExplainableBoostingClassifier()</pre></div> </div></div></div></div>"
      ],
      "text/plain": [
       "ExplainableBoostingClassifier()"
      ]
     },
     "execution_count": 61,
     "metadata": {},
     "output_type": "execute_result"
    }
   ],
   "source": [
    "# Default EBC\n",
    "ebm = EBC()\n",
    "ebm.fit(X_train_prep, y_train)"
   ]
  },
  {
   "cell_type": "code",
   "execution_count": 62,
   "id": "29236ba4",
   "metadata": {
    "execution": {
     "iopub.execute_input": "2024-02-20T22:03:53.907821Z",
     "iopub.status.busy": "2024-02-20T22:03:53.907358Z",
     "iopub.status.idle": "2024-02-20T22:03:53.960749Z",
     "shell.execute_reply": "2024-02-20T22:03:53.956338Z",
     "shell.execute_reply.started": "2024-02-20T22:03:53.907787Z"
    }
   },
   "outputs": [
    {
     "name": "stdout",
     "output_type": "stream",
     "text": [
      "body_mass_g | flipper_length_mm | 0.86\n",
      "{'flipper_length_mm'}\n"
     ]
    },
    {
     "data": {
      "text/plain": [
       "0.0088057361797229"
      ]
     },
     "execution_count": 62,
     "metadata": {},
     "output_type": "execute_result"
    }
   ],
   "source": [
    "X_test_prep = full_pipeline.transform(X_test)\n",
    "y_pred = ebm.predict_proba(X_test_prep)\n",
    "log_loss(y_test, y_pred)"
   ]
  },
  {
   "cell_type": "markdown",
   "id": "734f50d3",
   "metadata": {},
   "source": [
    "## 5. Hyperparameter Tuning - Hyperopt"
   ]
  },
  {
   "cell_type": "code",
   "execution_count": 65,
   "id": "346c1ab8",
   "metadata": {
    "execution": {
     "iopub.execute_input": "2024-02-20T22:06:26.927261Z",
     "iopub.status.busy": "2024-02-20T22:06:26.926834Z",
     "iopub.status.idle": "2024-02-20T22:06:26.937383Z",
     "shell.execute_reply": "2024-02-20T22:06:26.933988Z",
     "shell.execute_reply.started": "2024-02-20T22:06:26.927226Z"
    }
   },
   "outputs": [],
   "source": [
    "n_jobs = -2\n",
    "random_state = 44\n",
    "cv = 3"
   ]
  },
  {
   "cell_type": "code",
   "execution_count": 66,
   "id": "40670304",
   "metadata": {
    "execution": {
     "iopub.execute_input": "2024-02-20T22:06:28.063075Z",
     "iopub.status.busy": "2024-02-20T22:06:28.062515Z",
     "iopub.status.idle": "2024-02-20T22:06:28.078981Z",
     "shell.execute_reply": "2024-02-20T22:06:28.077259Z",
     "shell.execute_reply.started": "2024-02-20T22:06:28.063036Z"
    }
   },
   "outputs": [],
   "source": [
    "# Objective function\n",
    "# Neg_log_loss returns negative values\n",
    "# Hyperopt minimizes \n",
    "def hyperparameter_tuning(params):\n",
    " clf = EBC(random_state=random_state, n_jobs=n_jobs, **params)\n",
    " neg_log_loss = cross_val_score(clf, X_train_prep, y_train, scoring=\"neg_log_loss\", cv=cv, error_score=\"raise\", n_jobs=n_jobs).mean()\n",
    " return {'loss': neg_log_loss, \"status\": STATUS_OK}\n",
    "\n",
    "# Hyperparameters we want to tune\n",
    "ob_choices = [10, 20, 30]\n",
    "ib_choices = [10, 20, 30]\n",
    "mb_choices = [32, 64, 128, 500, 1000]\n",
    "ml_choices = [2, 3, 4, 5]\n",
    "\n",
    "\n",
    "space = {\n",
    " 'outer_bags': hp.choice(\"outer_bags\", ob_choices),\n",
    " 'inner_bags': hp.choice(\"inner_bags\", ib_choices),\n",
    " 'max_bins': hp.choice(\"max_bins\", mb_choices),\n",
    " 'max_leaves': hp.choice(\"max_leaves\", ml_choices)\n",
    "}"
   ]
  },
  {
   "cell_type": "code",
   "execution_count": 67,
   "id": "f98ad93f",
   "metadata": {
    "execution": {
     "iopub.execute_input": "2024-02-20T22:06:30.912833Z",
     "iopub.status.busy": "2024-02-20T22:06:30.912414Z",
     "iopub.status.idle": "2024-02-20T22:07:48.964740Z",
     "shell.execute_reply": "2024-02-20T22:07:48.959869Z",
     "shell.execute_reply.started": "2024-02-20T22:06:30.912803Z"
    }
   },
   "outputs": [
    {
     "name": "stdout",
     "output_type": "stream",
     "text": [
      "  0%|                                                     | 0/5 [00:00<?, ?trial/s, best loss=?]"
     ]
    },
    {
     "name": "stderr",
     "output_type": "stream",
     "text": [
      "/Users/meganfang/Desktop/DS/ebm_hyperopt/ebm/lib/python3.11/site-packages/interpret/glassbox/_ebm/_ebm.py:964: UserWarning: Detected multiclass problem. Forcing interactions to 0. Multiclass interactions only have local explanations. They are not currently displayed in the global explanation visualizations. Set interactions=0 to disable this warning. If you still want multiclass interactions, this API accepts a list, and the measure_interactions function can be used to detect them.\n",
      "  warn(\n",
      "/Users/meganfang/Desktop/DS/ebm_hyperopt/ebm/lib/python3.11/site-packages/interpret/glassbox/_ebm/_ebm.py:964: UserWarning: Detected multiclass problem. Forcing interactions to 0. Multiclass interactions only have local explanations. They are not currently displayed in the global explanation visualizations. Set interactions=0 to disable this warning. If you still want multiclass interactions, this API accepts a list, and the measure_interactions function can be used to detect them.\n",
      "  warn(\n"
     ]
    },
    {
     "name": "stdout",
     "output_type": "stream",
     "text": [
      " 20%|████▊                   | 1/5 [00:11<00:45, 11.43s/trial, best loss: -0.031752471013125484]"
     ]
    },
    {
     "name": "stderr",
     "output_type": "stream",
     "text": [
      "/Users/meganfang/Desktop/DS/ebm_hyperopt/ebm/lib/python3.11/site-packages/interpret/glassbox/_ebm/_ebm.py:964: UserWarning: Detected multiclass problem. Forcing interactions to 0. Multiclass interactions only have local explanations. They are not currently displayed in the global explanation visualizations. Set interactions=0 to disable this warning. If you still want multiclass interactions, this API accepts a list, and the measure_interactions function can be used to detect them.\n",
      "  warn(\n",
      "/Users/meganfang/Desktop/DS/ebm_hyperopt/ebm/lib/python3.11/site-packages/interpret/glassbox/_ebm/_ebm.py:964: UserWarning: Detected multiclass problem. Forcing interactions to 0. Multiclass interactions only have local explanations. They are not currently displayed in the global explanation visualizations. Set interactions=0 to disable this warning. If you still want multiclass interactions, this API accepts a list, and the measure_interactions function can be used to detect them.\n",
      "  warn(\n",
      "/Users/meganfang/Desktop/DS/ebm_hyperopt/ebm/lib/python3.11/site-packages/interpret/glassbox/_ebm/_ebm.py:964: UserWarning: Detected multiclass problem. Forcing interactions to 0. Multiclass interactions only have local explanations. They are not currently displayed in the global explanation visualizations. Set interactions=0 to disable this warning. If you still want multiclass interactions, this API accepts a list, and the measure_interactions function can be used to detect them.\n",
      "  warn(\n"
     ]
    },
    {
     "name": "stdout",
     "output_type": "stream",
     "text": [
      " 40%|██████████               | 2/5 [00:44<01:12, 24.25s/trial, best loss: -0.03609749255307405]"
     ]
    },
    {
     "name": "stderr",
     "output_type": "stream",
     "text": [
      "/Users/meganfang/Desktop/DS/ebm_hyperopt/ebm/lib/python3.11/site-packages/interpret/glassbox/_ebm/_ebm.py:964: UserWarning: Detected multiclass problem. Forcing interactions to 0. Multiclass interactions only have local explanations. They are not currently displayed in the global explanation visualizations. Set interactions=0 to disable this warning. If you still want multiclass interactions, this API accepts a list, and the measure_interactions function can be used to detect them.\n",
      "  warn(\n",
      "/Users/meganfang/Desktop/DS/ebm_hyperopt/ebm/lib/python3.11/site-packages/interpret/glassbox/_ebm/_ebm.py:964: UserWarning: Detected multiclass problem. Forcing interactions to 0. Multiclass interactions only have local explanations. They are not currently displayed in the global explanation visualizations. Set interactions=0 to disable this warning. If you still want multiclass interactions, this API accepts a list, and the measure_interactions function can be used to detect them.\n",
      "  warn(\n",
      "/Users/meganfang/Desktop/DS/ebm_hyperopt/ebm/lib/python3.11/site-packages/interpret/glassbox/_ebm/_ebm.py:964: UserWarning: Detected multiclass problem. Forcing interactions to 0. Multiclass interactions only have local explanations. They are not currently displayed in the global explanation visualizations. Set interactions=0 to disable this warning. If you still want multiclass interactions, this API accepts a list, and the measure_interactions function can be used to detect them.\n",
      "  warn(\n"
     ]
    },
    {
     "name": "stdout",
     "output_type": "stream",
     "text": [
      " 60%|███████████████          | 3/5 [00:59<00:39, 19.87s/trial, best loss: -0.03653184347609085]"
     ]
    },
    {
     "name": "stderr",
     "output_type": "stream",
     "text": [
      "/Users/meganfang/Desktop/DS/ebm_hyperopt/ebm/lib/python3.11/site-packages/interpret/glassbox/_ebm/_ebm.py:964: UserWarning: Detected multiclass problem. Forcing interactions to 0. Multiclass interactions only have local explanations. They are not currently displayed in the global explanation visualizations. Set interactions=0 to disable this warning. If you still want multiclass interactions, this API accepts a list, and the measure_interactions function can be used to detect them.\n",
      "  warn(\n",
      "/Users/meganfang/Desktop/DS/ebm_hyperopt/ebm/lib/python3.11/site-packages/interpret/glassbox/_ebm/_ebm.py:964: UserWarning: Detected multiclass problem. Forcing interactions to 0. Multiclass interactions only have local explanations. They are not currently displayed in the global explanation visualizations. Set interactions=0 to disable this warning. If you still want multiclass interactions, this API accepts a list, and the measure_interactions function can be used to detect them.\n",
      "  warn(\n",
      "/Users/meganfang/Desktop/DS/ebm_hyperopt/ebm/lib/python3.11/site-packages/interpret/glassbox/_ebm/_ebm.py:964: UserWarning: Detected multiclass problem. Forcing interactions to 0. Multiclass interactions only have local explanations. They are not currently displayed in the global explanation visualizations. Set interactions=0 to disable this warning. If you still want multiclass interactions, this API accepts a list, and the measure_interactions function can be used to detect them.\n",
      "  warn(\n"
     ]
    },
    {
     "name": "stdout",
     "output_type": "stream",
     "text": [
      " 80%|███████████████████▏    | 4/5 [01:06<00:15, 15.00s/trial, best loss: -0.036880710692527456]"
     ]
    },
    {
     "name": "stderr",
     "output_type": "stream",
     "text": [
      "/Users/meganfang/Desktop/DS/ebm_hyperopt/ebm/lib/python3.11/site-packages/interpret/glassbox/_ebm/_ebm.py:964: UserWarning: Detected multiclass problem. Forcing interactions to 0. Multiclass interactions only have local explanations. They are not currently displayed in the global explanation visualizations. Set interactions=0 to disable this warning. If you still want multiclass interactions, this API accepts a list, and the measure_interactions function can be used to detect them.\n",
      "  warn(\n",
      "/Users/meganfang/Desktop/DS/ebm_hyperopt/ebm/lib/python3.11/site-packages/interpret/glassbox/_ebm/_ebm.py:964: UserWarning: Detected multiclass problem. Forcing interactions to 0. Multiclass interactions only have local explanations. They are not currently displayed in the global explanation visualizations. Set interactions=0 to disable this warning. If you still want multiclass interactions, this API accepts a list, and the measure_interactions function can be used to detect them.\n",
      "  warn(\n",
      "/Users/meganfang/Desktop/DS/ebm_hyperopt/ebm/lib/python3.11/site-packages/interpret/glassbox/_ebm/_ebm.py:964: UserWarning: Detected multiclass problem. Forcing interactions to 0. Multiclass interactions only have local explanations. They are not currently displayed in the global explanation visualizations. Set interactions=0 to disable this warning. If you still want multiclass interactions, this API accepts a list, and the measure_interactions function can be used to detect them.\n",
      "  warn(\n"
     ]
    },
    {
     "name": "stdout",
     "output_type": "stream",
     "text": [
      "100%|████████████████████████| 5/5 [01:18<00:00, 15.61s/trial, best loss: -0.036880710692527456]\n"
     ]
    },
    {
     "name": "stderr",
     "output_type": "stream",
     "text": [
      "/Users/meganfang/Desktop/DS/ebm_hyperopt/ebm/lib/python3.11/site-packages/interpret/glassbox/_ebm/_ebm.py:964: UserWarning: Detected multiclass problem. Forcing interactions to 0. Multiclass interactions only have local explanations. They are not currently displayed in the global explanation visualizations. Set interactions=0 to disable this warning. If you still want multiclass interactions, this API accepts a list, and the measure_interactions function can be used to detect them.\n",
      "  warn(\n"
     ]
    }
   ],
   "source": [
    "# Run tuning trials\n",
    "trials = Trials()\n",
    "\n",
    "best = fmin(\n",
    " fn=hyperparameter_tuning,\n",
    " space=space,\n",
    " algo=tpe.suggest,\n",
    " max_evals=5,\n",
    " trials=trials\n",
    ")"
   ]
  },
  {
   "cell_type": "code",
   "execution_count": 68,
   "id": "54470b93",
   "metadata": {
    "execution": {
     "iopub.execute_input": "2024-02-20T22:07:48.970444Z",
     "iopub.status.busy": "2024-02-20T22:07:48.969000Z",
     "iopub.status.idle": "2024-02-20T22:07:48.980362Z",
     "shell.execute_reply": "2024-02-20T22:07:48.978001Z",
     "shell.execute_reply.started": "2024-02-20T22:07:48.970374Z"
    }
   },
   "outputs": [
    {
     "name": "stdout",
     "output_type": "stream",
     "text": [
      "Best: {'inner_bags': 1, 'max_bins': 0, 'max_leaves': 1, 'outer_bags': 0}\n",
      "[{'loss': -0.031752471013125484, 'status': 'ok'}, {'loss': -0.03609749255307405, 'status': 'ok'}, {'loss': -0.03653184347609085, 'status': 'ok'}, {'loss': -0.036880710692527456, 'status': 'ok'}, {'loss': -0.03597995454323675, 'status': 'ok'}]\n"
     ]
    }
   ],
   "source": [
    "# Get best results\n",
    "print(f\"Best: {best}\")\n",
    "print(trials.results)"
   ]
  },
  {
   "cell_type": "code",
   "execution_count": 69,
   "id": "1dac678c",
   "metadata": {
    "execution": {
     "iopub.execute_input": "2024-02-20T22:07:48.986355Z",
     "iopub.status.busy": "2024-02-20T22:07:48.985076Z",
     "iopub.status.idle": "2024-02-20T22:07:48.998458Z",
     "shell.execute_reply": "2024-02-20T22:07:48.997068Z",
     "shell.execute_reply.started": "2024-02-20T22:07:48.986314Z"
    }
   },
   "outputs": [
    {
     "data": {
      "text/plain": [
       "(20, 10, 32, 3)"
      ]
     },
     "execution_count": 69,
     "metadata": {},
     "output_type": "execute_result"
    }
   ],
   "source": [
    "ib_choices[best['inner_bags']], ob_choices[best['outer_bags']], mb_choices[best['max_bins']], ml_choices[best['max_leaves']]"
   ]
  },
  {
   "cell_type": "code",
   "execution_count": 70,
   "id": "b7cdd8c3",
   "metadata": {
    "execution": {
     "iopub.execute_input": "2024-02-20T22:08:27.460650Z",
     "iopub.status.busy": "2024-02-20T22:08:27.460199Z",
     "iopub.status.idle": "2024-02-20T22:08:30.301172Z",
     "shell.execute_reply": "2024-02-20T22:08:30.299456Z",
     "shell.execute_reply.started": "2024-02-20T22:08:27.460617Z"
    }
   },
   "outputs": [
    {
     "data": {
      "text/html": [
       "<style>#sk-container-id-3 {\n",
       "  /* Definition of color scheme common for light and dark mode */\n",
       "  --sklearn-color-text: black;\n",
       "  --sklearn-color-line: gray;\n",
       "  /* Definition of color scheme for unfitted estimators */\n",
       "  --sklearn-color-unfitted-level-0: #fff5e6;\n",
       "  --sklearn-color-unfitted-level-1: #f6e4d2;\n",
       "  --sklearn-color-unfitted-level-2: #ffe0b3;\n",
       "  --sklearn-color-unfitted-level-3: chocolate;\n",
       "  /* Definition of color scheme for fitted estimators */\n",
       "  --sklearn-color-fitted-level-0: #f0f8ff;\n",
       "  --sklearn-color-fitted-level-1: #d4ebff;\n",
       "  --sklearn-color-fitted-level-2: #b3dbfd;\n",
       "  --sklearn-color-fitted-level-3: cornflowerblue;\n",
       "\n",
       "  /* Specific color for light theme */\n",
       "  --sklearn-color-text-on-default-background: var(--sg-text-color, var(--theme-code-foreground, var(--jp-content-font-color1, black)));\n",
       "  --sklearn-color-background: var(--sg-background-color, var(--theme-background, var(--jp-layout-color0, white)));\n",
       "  --sklearn-color-border-box: var(--sg-text-color, var(--theme-code-foreground, var(--jp-content-font-color1, black)));\n",
       "  --sklearn-color-icon: #696969;\n",
       "\n",
       "  @media (prefers-color-scheme: dark) {\n",
       "    /* Redefinition of color scheme for dark theme */\n",
       "    --sklearn-color-text-on-default-background: var(--sg-text-color, var(--theme-code-foreground, var(--jp-content-font-color1, white)));\n",
       "    --sklearn-color-background: var(--sg-background-color, var(--theme-background, var(--jp-layout-color0, #111)));\n",
       "    --sklearn-color-border-box: var(--sg-text-color, var(--theme-code-foreground, var(--jp-content-font-color1, white)));\n",
       "    --sklearn-color-icon: #878787;\n",
       "  }\n",
       "}\n",
       "\n",
       "#sk-container-id-3 {\n",
       "  color: var(--sklearn-color-text);\n",
       "}\n",
       "\n",
       "#sk-container-id-3 pre {\n",
       "  padding: 0;\n",
       "}\n",
       "\n",
       "#sk-container-id-3 input.sk-hidden--visually {\n",
       "  border: 0;\n",
       "  clip: rect(1px 1px 1px 1px);\n",
       "  clip: rect(1px, 1px, 1px, 1px);\n",
       "  height: 1px;\n",
       "  margin: -1px;\n",
       "  overflow: hidden;\n",
       "  padding: 0;\n",
       "  position: absolute;\n",
       "  width: 1px;\n",
       "}\n",
       "\n",
       "#sk-container-id-3 div.sk-dashed-wrapped {\n",
       "  border: 1px dashed var(--sklearn-color-line);\n",
       "  margin: 0 0.4em 0.5em 0.4em;\n",
       "  box-sizing: border-box;\n",
       "  padding-bottom: 0.4em;\n",
       "  background-color: var(--sklearn-color-background);\n",
       "}\n",
       "\n",
       "#sk-container-id-3 div.sk-container {\n",
       "  /* jupyter's `normalize.less` sets `[hidden] { display: none; }`\n",
       "     but bootstrap.min.css set `[hidden] { display: none !important; }`\n",
       "     so we also need the `!important` here to be able to override the\n",
       "     default hidden behavior on the sphinx rendered scikit-learn.org.\n",
       "     See: https://github.com/scikit-learn/scikit-learn/issues/21755 */\n",
       "  display: inline-block !important;\n",
       "  position: relative;\n",
       "}\n",
       "\n",
       "#sk-container-id-3 div.sk-text-repr-fallback {\n",
       "  display: none;\n",
       "}\n",
       "\n",
       "div.sk-parallel-item,\n",
       "div.sk-serial,\n",
       "div.sk-item {\n",
       "  /* draw centered vertical line to link estimators */\n",
       "  background-image: linear-gradient(var(--sklearn-color-text-on-default-background), var(--sklearn-color-text-on-default-background));\n",
       "  background-size: 2px 100%;\n",
       "  background-repeat: no-repeat;\n",
       "  background-position: center center;\n",
       "}\n",
       "\n",
       "/* Parallel-specific style estimator block */\n",
       "\n",
       "#sk-container-id-3 div.sk-parallel-item::after {\n",
       "  content: \"\";\n",
       "  width: 100%;\n",
       "  border-bottom: 2px solid var(--sklearn-color-text-on-default-background);\n",
       "  flex-grow: 1;\n",
       "}\n",
       "\n",
       "#sk-container-id-3 div.sk-parallel {\n",
       "  display: flex;\n",
       "  align-items: stretch;\n",
       "  justify-content: center;\n",
       "  background-color: var(--sklearn-color-background);\n",
       "  position: relative;\n",
       "}\n",
       "\n",
       "#sk-container-id-3 div.sk-parallel-item {\n",
       "  display: flex;\n",
       "  flex-direction: column;\n",
       "}\n",
       "\n",
       "#sk-container-id-3 div.sk-parallel-item:first-child::after {\n",
       "  align-self: flex-end;\n",
       "  width: 50%;\n",
       "}\n",
       "\n",
       "#sk-container-id-3 div.sk-parallel-item:last-child::after {\n",
       "  align-self: flex-start;\n",
       "  width: 50%;\n",
       "}\n",
       "\n",
       "#sk-container-id-3 div.sk-parallel-item:only-child::after {\n",
       "  width: 0;\n",
       "}\n",
       "\n",
       "/* Serial-specific style estimator block */\n",
       "\n",
       "#sk-container-id-3 div.sk-serial {\n",
       "  display: flex;\n",
       "  flex-direction: column;\n",
       "  align-items: center;\n",
       "  background-color: var(--sklearn-color-background);\n",
       "  padding-right: 1em;\n",
       "  padding-left: 1em;\n",
       "}\n",
       "\n",
       "\n",
       "/* Toggleable style: style used for estimator/Pipeline/ColumnTransformer box that is\n",
       "clickable and can be expanded/collapsed.\n",
       "- Pipeline and ColumnTransformer use this feature and define the default style\n",
       "- Estimators will overwrite some part of the style using the `sk-estimator` class\n",
       "*/\n",
       "\n",
       "/* Pipeline and ColumnTransformer style (default) */\n",
       "\n",
       "#sk-container-id-3 div.sk-toggleable {\n",
       "  /* Default theme specific background. It is overwritten whether we have a\n",
       "  specific estimator or a Pipeline/ColumnTransformer */\n",
       "  background-color: var(--sklearn-color-background);\n",
       "}\n",
       "\n",
       "/* Toggleable label */\n",
       "#sk-container-id-3 label.sk-toggleable__label {\n",
       "  cursor: pointer;\n",
       "  display: block;\n",
       "  width: 100%;\n",
       "  margin-bottom: 0;\n",
       "  padding: 0.5em;\n",
       "  box-sizing: border-box;\n",
       "  text-align: center;\n",
       "}\n",
       "\n",
       "#sk-container-id-3 label.sk-toggleable__label-arrow:before {\n",
       "  /* Arrow on the left of the label */\n",
       "  content: \"▸\";\n",
       "  float: left;\n",
       "  margin-right: 0.25em;\n",
       "  color: var(--sklearn-color-icon);\n",
       "}\n",
       "\n",
       "#sk-container-id-3 label.sk-toggleable__label-arrow:hover:before {\n",
       "  color: var(--sklearn-color-text);\n",
       "}\n",
       "\n",
       "/* Toggleable content - dropdown */\n",
       "\n",
       "#sk-container-id-3 div.sk-toggleable__content {\n",
       "  max-height: 0;\n",
       "  max-width: 0;\n",
       "  overflow: hidden;\n",
       "  text-align: left;\n",
       "  /* unfitted */\n",
       "  background-color: var(--sklearn-color-unfitted-level-0);\n",
       "}\n",
       "\n",
       "#sk-container-id-3 div.sk-toggleable__content.fitted {\n",
       "  /* fitted */\n",
       "  background-color: var(--sklearn-color-fitted-level-0);\n",
       "}\n",
       "\n",
       "#sk-container-id-3 div.sk-toggleable__content pre {\n",
       "  margin: 0.2em;\n",
       "  border-radius: 0.25em;\n",
       "  color: var(--sklearn-color-text);\n",
       "  /* unfitted */\n",
       "  background-color: var(--sklearn-color-unfitted-level-0);\n",
       "}\n",
       "\n",
       "#sk-container-id-3 div.sk-toggleable__content.fitted pre {\n",
       "  /* unfitted */\n",
       "  background-color: var(--sklearn-color-fitted-level-0);\n",
       "}\n",
       "\n",
       "#sk-container-id-3 input.sk-toggleable__control:checked~div.sk-toggleable__content {\n",
       "  /* Expand drop-down */\n",
       "  max-height: 200px;\n",
       "  max-width: 100%;\n",
       "  overflow: auto;\n",
       "}\n",
       "\n",
       "#sk-container-id-3 input.sk-toggleable__control:checked~label.sk-toggleable__label-arrow:before {\n",
       "  content: \"▾\";\n",
       "}\n",
       "\n",
       "/* Pipeline/ColumnTransformer-specific style */\n",
       "\n",
       "#sk-container-id-3 div.sk-label input.sk-toggleable__control:checked~label.sk-toggleable__label {\n",
       "  color: var(--sklearn-color-text);\n",
       "  background-color: var(--sklearn-color-unfitted-level-2);\n",
       "}\n",
       "\n",
       "#sk-container-id-3 div.sk-label.fitted input.sk-toggleable__control:checked~label.sk-toggleable__label {\n",
       "  background-color: var(--sklearn-color-fitted-level-2);\n",
       "}\n",
       "\n",
       "/* Estimator-specific style */\n",
       "\n",
       "/* Colorize estimator box */\n",
       "#sk-container-id-3 div.sk-estimator input.sk-toggleable__control:checked~label.sk-toggleable__label {\n",
       "  /* unfitted */\n",
       "  background-color: var(--sklearn-color-unfitted-level-2);\n",
       "}\n",
       "\n",
       "#sk-container-id-3 div.sk-estimator.fitted input.sk-toggleable__control:checked~label.sk-toggleable__label {\n",
       "  /* fitted */\n",
       "  background-color: var(--sklearn-color-fitted-level-2);\n",
       "}\n",
       "\n",
       "#sk-container-id-3 div.sk-label label.sk-toggleable__label,\n",
       "#sk-container-id-3 div.sk-label label {\n",
       "  /* The background is the default theme color */\n",
       "  color: var(--sklearn-color-text-on-default-background);\n",
       "}\n",
       "\n",
       "/* On hover, darken the color of the background */\n",
       "#sk-container-id-3 div.sk-label:hover label.sk-toggleable__label {\n",
       "  color: var(--sklearn-color-text);\n",
       "  background-color: var(--sklearn-color-unfitted-level-2);\n",
       "}\n",
       "\n",
       "/* Label box, darken color on hover, fitted */\n",
       "#sk-container-id-3 div.sk-label.fitted:hover label.sk-toggleable__label.fitted {\n",
       "  color: var(--sklearn-color-text);\n",
       "  background-color: var(--sklearn-color-fitted-level-2);\n",
       "}\n",
       "\n",
       "/* Estimator label */\n",
       "\n",
       "#sk-container-id-3 div.sk-label label {\n",
       "  font-family: monospace;\n",
       "  font-weight: bold;\n",
       "  display: inline-block;\n",
       "  line-height: 1.2em;\n",
       "}\n",
       "\n",
       "#sk-container-id-3 div.sk-label-container {\n",
       "  text-align: center;\n",
       "}\n",
       "\n",
       "/* Estimator-specific */\n",
       "#sk-container-id-3 div.sk-estimator {\n",
       "  font-family: monospace;\n",
       "  border: 1px dotted var(--sklearn-color-border-box);\n",
       "  border-radius: 0.25em;\n",
       "  box-sizing: border-box;\n",
       "  margin-bottom: 0.5em;\n",
       "  /* unfitted */\n",
       "  background-color: var(--sklearn-color-unfitted-level-0);\n",
       "}\n",
       "\n",
       "#sk-container-id-3 div.sk-estimator.fitted {\n",
       "  /* fitted */\n",
       "  background-color: var(--sklearn-color-fitted-level-0);\n",
       "}\n",
       "\n",
       "/* on hover */\n",
       "#sk-container-id-3 div.sk-estimator:hover {\n",
       "  /* unfitted */\n",
       "  background-color: var(--sklearn-color-unfitted-level-2);\n",
       "}\n",
       "\n",
       "#sk-container-id-3 div.sk-estimator.fitted:hover {\n",
       "  /* fitted */\n",
       "  background-color: var(--sklearn-color-fitted-level-2);\n",
       "}\n",
       "\n",
       "/* Specification for estimator info (e.g. \"i\" and \"?\") */\n",
       "\n",
       "/* Common style for \"i\" and \"?\" */\n",
       "\n",
       ".sk-estimator-doc-link,\n",
       "a:link.sk-estimator-doc-link,\n",
       "a:visited.sk-estimator-doc-link {\n",
       "  float: right;\n",
       "  font-size: smaller;\n",
       "  line-height: 1em;\n",
       "  font-family: monospace;\n",
       "  background-color: var(--sklearn-color-background);\n",
       "  border-radius: 1em;\n",
       "  height: 1em;\n",
       "  width: 1em;\n",
       "  text-decoration: none !important;\n",
       "  margin-left: 1ex;\n",
       "  /* unfitted */\n",
       "  border: var(--sklearn-color-unfitted-level-1) 1pt solid;\n",
       "  color: var(--sklearn-color-unfitted-level-1);\n",
       "}\n",
       "\n",
       ".sk-estimator-doc-link.fitted,\n",
       "a:link.sk-estimator-doc-link.fitted,\n",
       "a:visited.sk-estimator-doc-link.fitted {\n",
       "  /* fitted */\n",
       "  border: var(--sklearn-color-fitted-level-1) 1pt solid;\n",
       "  color: var(--sklearn-color-fitted-level-1);\n",
       "}\n",
       "\n",
       "/* On hover */\n",
       "div.sk-estimator:hover .sk-estimator-doc-link:hover,\n",
       ".sk-estimator-doc-link:hover,\n",
       "div.sk-label-container:hover .sk-estimator-doc-link:hover,\n",
       ".sk-estimator-doc-link:hover {\n",
       "  /* unfitted */\n",
       "  background-color: var(--sklearn-color-unfitted-level-3);\n",
       "  color: var(--sklearn-color-background);\n",
       "  text-decoration: none;\n",
       "}\n",
       "\n",
       "div.sk-estimator.fitted:hover .sk-estimator-doc-link.fitted:hover,\n",
       ".sk-estimator-doc-link.fitted:hover,\n",
       "div.sk-label-container:hover .sk-estimator-doc-link.fitted:hover,\n",
       ".sk-estimator-doc-link.fitted:hover {\n",
       "  /* fitted */\n",
       "  background-color: var(--sklearn-color-fitted-level-3);\n",
       "  color: var(--sklearn-color-background);\n",
       "  text-decoration: none;\n",
       "}\n",
       "\n",
       "/* Span, style for the box shown on hovering the info icon */\n",
       ".sk-estimator-doc-link span {\n",
       "  display: none;\n",
       "  z-index: 9999;\n",
       "  position: relative;\n",
       "  font-weight: normal;\n",
       "  right: .2ex;\n",
       "  padding: .5ex;\n",
       "  margin: .5ex;\n",
       "  width: min-content;\n",
       "  min-width: 20ex;\n",
       "  max-width: 50ex;\n",
       "  color: var(--sklearn-color-text);\n",
       "  box-shadow: 2pt 2pt 4pt #999;\n",
       "  /* unfitted */\n",
       "  background: var(--sklearn-color-unfitted-level-0);\n",
       "  border: .5pt solid var(--sklearn-color-unfitted-level-3);\n",
       "}\n",
       "\n",
       ".sk-estimator-doc-link.fitted span {\n",
       "  /* fitted */\n",
       "  background: var(--sklearn-color-fitted-level-0);\n",
       "  border: var(--sklearn-color-fitted-level-3);\n",
       "}\n",
       "\n",
       ".sk-estimator-doc-link:hover span {\n",
       "  display: block;\n",
       "}\n",
       "\n",
       "/* \"?\"-specific style due to the `<a>` HTML tag */\n",
       "\n",
       "#sk-container-id-3 a.estimator_doc_link {\n",
       "  float: right;\n",
       "  font-size: 1rem;\n",
       "  line-height: 1em;\n",
       "  font-family: monospace;\n",
       "  background-color: var(--sklearn-color-background);\n",
       "  border-radius: 1rem;\n",
       "  height: 1rem;\n",
       "  width: 1rem;\n",
       "  text-decoration: none;\n",
       "  /* unfitted */\n",
       "  color: var(--sklearn-color-unfitted-level-1);\n",
       "  border: var(--sklearn-color-unfitted-level-1) 1pt solid;\n",
       "}\n",
       "\n",
       "#sk-container-id-3 a.estimator_doc_link.fitted {\n",
       "  /* fitted */\n",
       "  border: var(--sklearn-color-fitted-level-1) 1pt solid;\n",
       "  color: var(--sklearn-color-fitted-level-1);\n",
       "}\n",
       "\n",
       "/* On hover */\n",
       "#sk-container-id-3 a.estimator_doc_link:hover {\n",
       "  /* unfitted */\n",
       "  background-color: var(--sklearn-color-unfitted-level-3);\n",
       "  color: var(--sklearn-color-background);\n",
       "  text-decoration: none;\n",
       "}\n",
       "\n",
       "#sk-container-id-3 a.estimator_doc_link.fitted:hover {\n",
       "  /* fitted */\n",
       "  background-color: var(--sklearn-color-fitted-level-3);\n",
       "}\n",
       "</style><div id=\"sk-container-id-3\" class=\"sk-top-container\"><div class=\"sk-text-repr-fallback\"><pre>ExplainableBoostingClassifier(inner_bags=20, max_bins=32, outer_bags=10)</pre><b>In a Jupyter environment, please rerun this cell to show the HTML representation or trust the notebook. <br />On GitHub, the HTML representation is unable to render, please try loading this page with nbviewer.org.</b></div><div class=\"sk-container\" hidden><div class=\"sk-item\"><div class=\"sk-estimator fitted sk-toggleable\"><input class=\"sk-toggleable__control sk-hidden--visually\" id=\"sk-estimator-id-3\" type=\"checkbox\" checked><label for=\"sk-estimator-id-3\" class=\"sk-toggleable__label fitted sk-toggleable__label-arrow fitted\">&nbsp;ExplainableBoostingClassifier<span class=\"sk-estimator-doc-link fitted\">i<span>Fitted</span></span></label><div class=\"sk-toggleable__content fitted\"><pre>ExplainableBoostingClassifier(inner_bags=20, max_bins=32, outer_bags=10)</pre></div> </div></div></div></div>"
      ],
      "text/plain": [
       "ExplainableBoostingClassifier(inner_bags=20, max_bins=32, outer_bags=10)"
      ]
     },
     "execution_count": 70,
     "metadata": {},
     "output_type": "execute_result"
    }
   ],
   "source": [
    "# Refit with best hyperparams\n",
    "ebm_best = EBC(inner_bags=ib_choices[best['inner_bags']], outer_bags=ob_choices[best['outer_bags']]\n",
    "          , max_bins=mb_choices[best['max_bins']], max_leaves=ml_choices[best['max_leaves']])\n",
    "ebm_best.fit(X_train_prep, y_train)"
   ]
  },
  {
   "cell_type": "code",
   "execution_count": 71,
   "id": "06b04cee",
   "metadata": {
    "execution": {
     "iopub.execute_input": "2024-02-20T22:08:30.528307Z",
     "iopub.status.busy": "2024-02-20T22:08:30.527440Z",
     "iopub.status.idle": "2024-02-20T22:08:30.568777Z",
     "shell.execute_reply": "2024-02-20T22:08:30.565507Z",
     "shell.execute_reply.started": "2024-02-20T22:08:30.528259Z"
    }
   },
   "outputs": [
    {
     "data": {
      "text/plain": [
       "0.005273548634391651"
      ]
     },
     "execution_count": 71,
     "metadata": {},
     "output_type": "execute_result"
    }
   ],
   "source": [
    "y_pred = ebm_best.predict_proba(X_test_prep)\n",
    "log_loss(y_test, y_pred)"
   ]
  },
  {
   "cell_type": "markdown",
   "id": "049d7698",
   "metadata": {},
   "source": [
    "## 6. Explain feature importances and term contributions"
   ]
  },
  {
   "cell_type": "code",
   "execution_count": 75,
   "id": "fd5b1c64",
   "metadata": {
    "execution": {
     "iopub.execute_input": "2024-02-20T22:12:49.721152Z",
     "iopub.status.busy": "2024-02-20T22:12:49.720699Z",
     "iopub.status.idle": "2024-02-20T22:12:52.038565Z",
     "shell.execute_reply": "2024-02-20T22:12:52.037780Z",
     "shell.execute_reply.started": "2024-02-20T22:12:49.721118Z"
    }
   },
   "outputs": [
    {
     "data": {
      "text/html": [
       "<!-- http://127.0.0.1:7001/4954518992/ -->\n",
       "<iframe src=\"http://127.0.0.1:7001/4954518992/\" width=100% height=800 frameBorder=\"0\"></iframe>"
      ]
     },
     "metadata": {},
     "output_type": "display_data"
    }
   ],
   "source": [
    "# Global model summary\n",
    "show(ebm_best.explain_global())"
   ]
  },
  {
   "cell_type": "code",
   "execution_count": 76,
   "id": "1bbe3150",
   "metadata": {
    "execution": {
     "iopub.execute_input": "2024-02-20T22:13:04.390385Z",
     "iopub.status.busy": "2024-02-20T22:13:04.389937Z",
     "iopub.status.idle": "2024-02-20T22:13:04.429715Z",
     "shell.execute_reply": "2024-02-20T22:13:04.428573Z",
     "shell.execute_reply.started": "2024-02-20T22:13:04.390353Z"
    }
   },
   "outputs": [
    {
     "data": {
      "text/html": [
       "<!-- http://127.0.0.1:7001/4973221712/ -->\n",
       "<iframe src=\"http://127.0.0.1:7001/4973221712/\" width=100% height=800 frameBorder=\"0\"></iframe>"
      ]
     },
     "metadata": {},
     "output_type": "display_data"
    }
   ],
   "source": [
    "# local model summary\n",
    "show(ebm_best.explain_local(X_test_prep[:5], y_test[:5]), 0)"
   ]
  }
 ],
 "metadata": {
  "kernelspec": {
   "display_name": "ebm",
   "language": "python",
   "name": "ebm"
  },
  "language_info": {
   "codemirror_mode": {
    "name": "ipython",
    "version": 3
   },
   "file_extension": ".py",
   "mimetype": "text/x-python",
   "name": "python",
   "nbconvert_exporter": "python",
   "pygments_lexer": "ipython3",
   "version": "3.11.4"
  }
 },
 "nbformat": 4,
 "nbformat_minor": 5
}
